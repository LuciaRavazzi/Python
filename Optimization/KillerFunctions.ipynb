{
 "cells": [
  {
   "cell_type": "markdown",
   "metadata": {},
   "source": [
    "#### **Killer functions**\n",
    "\n",
    "Some functions can help to build real-world applicable machine learning models to leverage optimized, efficient and accurate methods at scalem"
   ]
  },
  {
   "cell_type": "markdown",
   "metadata": {},
   "source": [
    "##### **Input/Output**\n",
    "\n",
    "Input and output operations are serialized using Pandas methods, which means that Python objects are trasformed in order to be stored or uploaded, making them highly inefficient and time-consuming. \n",
    "\n",
    "So, to overcome this issue is possible to use different techniques:\n",
    "1. If the same file is loaded multiple times, possibly in the same pipeline or after reloading the kernel, load data only once and save it into a pickle, parquet of feather oject."
   ]
  },
  {
   "cell_type": "code",
   "execution_count": 65,
   "metadata": {},
   "outputs": [
    {
     "data": {
      "text/html": [
       "<style type='text/css'>\n",
       ".datatable table.frame { margin-bottom: 0; }\n",
       ".datatable table.frame thead { border-bottom: none; }\n",
       ".datatable table.frame tr.coltypes td {  color: #FFFFFF;  line-height: 6px;  padding: 0 0.5em;}\n",
       ".datatable .bool    { background: #DDDD99; }\n",
       ".datatable .object  { background: #565656; }\n",
       ".datatable .int     { background: #5D9E5D; }\n",
       ".datatable .float   { background: #4040CC; }\n",
       ".datatable .str     { background: #CC4040; }\n",
       ".datatable .time    { background: #40CC40; }\n",
       ".datatable .row_index {  background: var(--jp-border-color3);  border-right: 1px solid var(--jp-border-color0);  color: var(--jp-ui-font-color3);  font-size: 9px;}\n",
       ".datatable .frame tbody td { text-align: left; }\n",
       ".datatable .frame tr.coltypes .row_index {  background: var(--jp-border-color0);}\n",
       ".datatable th:nth-child(2) { padding-left: 12px; }\n",
       ".datatable .hellipsis {  color: var(--jp-cell-editor-border-color);}\n",
       ".datatable .vellipsis {  background: var(--jp-layout-color0);  color: var(--jp-cell-editor-border-color);}\n",
       ".datatable .na {  color: var(--jp-cell-editor-border-color);  font-size: 80%;}\n",
       ".datatable .sp {  opacity: 0.25;}\n",
       ".datatable .footer { font-size: 9px; }\n",
       ".datatable .frame_dimensions {  background: var(--jp-border-color3);  border-top: 1px solid var(--jp-border-color0);  color: var(--jp-ui-font-color3);  display: inline-block;  opacity: 0.6;  padding: 1px 10px 1px 5px;}\n",
       "</style>\n"
      ],
      "text/plain": [
       "<IPython.core.display.HTML object>"
      ]
     },
     "metadata": {},
     "output_type": "display_data"
    }
   ],
   "source": [
    "import pandas as pd\n",
    "import numpy as np\n",
    "\n",
    "import datatable as dt "
   ]
  },
  {
   "cell_type": "code",
   "execution_count": 58,
   "metadata": {},
   "outputs": [],
   "source": [
    "dd = {}\n",
    "\n",
    "for i in range(30):\n",
    "    if i < 10:\n",
    "        dd[f'Zeros' + str(i)] = np.zeros(10000000).astype(str)\n",
    "    if (i >= 10) & (i < 20):\n",
    "        dd[f'Zeros' + str(i)] = np.zeros(10000000).astype(int)\n",
    "    if (i >= 20) & (i < 30):\n",
    "        dd[f'Zeros' + str(i)] = np.zeros(10000000).astype(float)        "
   ]
  },
  {
   "cell_type": "code",
   "execution_count": 59,
   "metadata": {},
   "outputs": [],
   "source": [
    "pd.DataFrame(dd).to_csv('Zeros.csv')"
   ]
  },
  {
   "cell_type": "code",
   "execution_count": 60,
   "metadata": {},
   "outputs": [],
   "source": [
    "PATH = 'Zeros.csv'\n",
    "\n",
    "data = pd.read_csv(PATH)\n",
    "\n",
    "# To Pickle.\n",
    "data.to_pickle(PATH[:-3] + 'pickle')\n",
    "\n",
    "# To Parquet.\n",
    "data.to_parquet(PATH[:-3] + 'parquet', engine = 'pyarrow')\n",
    "\n",
    "# To Feather.\n",
    "data.to_feather(PATH[:-3] + 'feather')"
   ]
  },
  {
   "cell_type": "code",
   "execution_count": 61,
   "metadata": {},
   "outputs": [
    {
     "name": "stdout",
     "output_type": "stream",
     "text": [
      "26.5 µs ± 3.76 µs per loop (mean ± std. dev. of 7 runs, 10000 loops each)\n"
     ]
    }
   ],
   "source": [
    "%timeit for _ in range(1000): True\n",
    "\n",
    "_ = pd.read_csv(PATH)"
   ]
  },
  {
   "cell_type": "code",
   "execution_count": 62,
   "metadata": {},
   "outputs": [
    {
     "name": "stdout",
     "output_type": "stream",
     "text": [
      "20.7 µs ± 2.35 µs per loop (mean ± std. dev. of 7 runs, 10000 loops each)\n"
     ]
    }
   ],
   "source": [
    "%timeit for _ in range(1000): True\n",
    "\n",
    "# maybe, there is no difference because the size of the dataset is not huge enough. \n",
    "_ = pd.read_pickle(PATH[:-3] + 'pickle')"
   ]
  },
  {
   "cell_type": "code",
   "execution_count": 63,
   "metadata": {},
   "outputs": [
    {
     "name": "stdout",
     "output_type": "stream",
     "text": [
      "18 µs ± 542 ns per loop (mean ± std. dev. of 7 runs, 100000 loops each)\n"
     ]
    }
   ],
   "source": [
    "%timeit for _ in range(1000): True\n",
    "\n",
    "_ = pd.read_parquet(PATH[:-3] + 'parquet')"
   ]
  },
  {
   "cell_type": "code",
   "execution_count": 64,
   "metadata": {},
   "outputs": [
    {
     "name": "stdout",
     "output_type": "stream",
     "text": [
      "19.4 µs ± 2.24 µs per loop (mean ± std. dev. of 7 runs, 10000 loops each)\n"
     ]
    }
   ],
   "source": [
    "%timeit for _ in range(1000): True\n",
    "\n",
    "_ = pd.read_feather(PATH[:-3] + 'feather')"
   ]
  },
  {
   "cell_type": "markdown",
   "metadata": {},
   "source": [
    "2. If the file is imported only once, use datatable."
   ]
  },
  {
   "cell_type": "code",
   "execution_count": 66,
   "metadata": {},
   "outputs": [],
   "source": [
    "dt_df = dt.fread(PATH)\n",
    "pd_df = dt_df.to_pandas()"
   ]
  },
  {
   "cell_type": "markdown",
   "metadata": {},
   "source": [
    "##### **Filter dataset on categorical variables**"
   ]
  },
  {
   "cell_type": "code",
   "execution_count": 68,
   "metadata": {},
   "outputs": [],
   "source": [
    "import random"
   ]
  },
  {
   "cell_type": "code",
   "execution_count": 69,
   "metadata": {},
   "outputs": [],
   "source": [
    "city_list = [\"New York\", \"Manchester\", \"California\", \"Munich\", \"Bombay\", \n",
    "             \"Sydeny\", \"London\", \"Moscow\", \"Dubai\", \"Tokyo\"]\n",
    "\n",
    "job_list = [\"Software Development Engineer\", \"Research Engineer\", \n",
    "            \"Test Engineer\", \"Software Development Engineer-II\", \n",
    "            \"Python Developer\", \"Back End Developer\", \n",
    "            \"Front End Developer\", \"Data Scientist\", \n",
    "            \"IOS Developer\", \"Android Developer\"]\n",
    "\n",
    "cmp_list = [\"Amazon\", \"Google\", \"Infosys\", \"Mastercard\", \"Microsoft\", \n",
    "            \"Uber\", \"IBM\", \"Apple\", \"Wipro\", \"Cognizant\"]\n",
    "\n",
    "data = []\n",
    "for i in range(4_096_000):\n",
    "  \n",
    "    company = random.choice(cmp_list)\n",
    "    job = random.choice(job_list)\n",
    "    city = random.choice(city_list)\n",
    "    salary = int(round(np.random.rand(), 3)*10**6)\n",
    "    employment = random.choices([\"Full Time\", \"Intern\"], weights=(80, 20))[0]\n",
    "    rating = round((np.random.rand()*5), 1)\n",
    "    \n",
    "    data.append([company, job, city, salary, employment, rating])\n",
    "    \n",
    "data = pd.DataFrame(data, columns=[\"Company Name\", \"Employee Job Title\",\n",
    "                                   \"Employee Work Location\",  \"Employee Salary\", \n",
    "                                   \"Employment Status\", \"Employee Rating\"])"
   ]
  },
  {
   "cell_type": "code",
   "execution_count": 74,
   "metadata": {},
   "outputs": [
    {
     "data": {
      "text/html": [
       "<div>\n",
       "<style scoped>\n",
       "    .dataframe tbody tr th:only-of-type {\n",
       "        vertical-align: middle;\n",
       "    }\n",
       "\n",
       "    .dataframe tbody tr th {\n",
       "        vertical-align: top;\n",
       "    }\n",
       "\n",
       "    .dataframe thead th {\n",
       "        text-align: right;\n",
       "    }\n",
       "</style>\n",
       "<table border=\"1\" class=\"dataframe\">\n",
       "  <thead>\n",
       "    <tr style=\"text-align: right;\">\n",
       "      <th></th>\n",
       "      <th>Company Name</th>\n",
       "      <th>Employee Job Title</th>\n",
       "      <th>Employee Work Location</th>\n",
       "      <th>Employee Salary</th>\n",
       "      <th>Employment Status</th>\n",
       "      <th>Employee Rating</th>\n",
       "    </tr>\n",
       "  </thead>\n",
       "  <tbody>\n",
       "    <tr>\n",
       "      <th>0</th>\n",
       "      <td>Cognizant</td>\n",
       "      <td>Back End Developer</td>\n",
       "      <td>London</td>\n",
       "      <td>526000</td>\n",
       "      <td>Full Time</td>\n",
       "      <td>3.7</td>\n",
       "    </tr>\n",
       "    <tr>\n",
       "      <th>1</th>\n",
       "      <td>Infosys</td>\n",
       "      <td>Front End Developer</td>\n",
       "      <td>Dubai</td>\n",
       "      <td>109000</td>\n",
       "      <td>Full Time</td>\n",
       "      <td>2.2</td>\n",
       "    </tr>\n",
       "    <tr>\n",
       "      <th>2</th>\n",
       "      <td>IBM</td>\n",
       "      <td>Front End Developer</td>\n",
       "      <td>London</td>\n",
       "      <td>288000</td>\n",
       "      <td>Full Time</td>\n",
       "      <td>2.9</td>\n",
       "    </tr>\n",
       "    <tr>\n",
       "      <th>3</th>\n",
       "      <td>Wipro</td>\n",
       "      <td>Research Engineer</td>\n",
       "      <td>London</td>\n",
       "      <td>214000</td>\n",
       "      <td>Full Time</td>\n",
       "      <td>4.7</td>\n",
       "    </tr>\n",
       "    <tr>\n",
       "      <th>4</th>\n",
       "      <td>Uber</td>\n",
       "      <td>Test Engineer</td>\n",
       "      <td>Tokyo</td>\n",
       "      <td>87000</td>\n",
       "      <td>Intern</td>\n",
       "      <td>1.3</td>\n",
       "    </tr>\n",
       "  </tbody>\n",
       "</table>\n",
       "</div>"
      ],
      "text/plain": [
       "  Company Name   Employee Job Title Employee Work Location  Employee Salary  \\\n",
       "0    Cognizant   Back End Developer                 London           526000   \n",
       "1      Infosys  Front End Developer                  Dubai           109000   \n",
       "2          IBM  Front End Developer                 London           288000   \n",
       "3        Wipro    Research Engineer                 London           214000   \n",
       "4         Uber        Test Engineer                  Tokyo            87000   \n",
       "\n",
       "  Employment Status  Employee Rating  \n",
       "0         Full Time              3.7  \n",
       "1         Full Time              2.2  \n",
       "2         Full Time              2.9  \n",
       "3         Full Time              4.7  \n",
       "4            Intern              1.3  "
      ]
     },
     "execution_count": 74,
     "metadata": {},
     "output_type": "execute_result"
    }
   ],
   "source": [
    "data.head()"
   ]
  },
  {
   "cell_type": "code",
   "execution_count": 80,
   "metadata": {},
   "outputs": [
    {
     "name": "stdout",
     "output_type": "stream",
     "text": [
      "265 ms ± 5.1 ms per loop (mean ± std. dev. of 7 runs, 1 loop each)\n"
     ]
    }
   ],
   "source": [
    "%%timeit for i in range(1000): True \n",
    "\n",
    "data[data['Company Name'] == 'Amazon']"
   ]
  },
  {
   "cell_type": "code",
   "execution_count": 84,
   "metadata": {},
   "outputs": [
    {
     "name": "stdout",
     "output_type": "stream",
     "text": [
      "404 ms ± 5.76 ms per loop (mean ± std. dev. of 7 runs, 1 loop each)\n"
     ]
    }
   ],
   "source": [
    "%%timeit for i in range(1000): True\n",
    "\n",
    "data.groupby('Company Name').get_group(\"Amazon\")"
   ]
  },
  {
   "cell_type": "markdown",
   "metadata": {},
   "source": [
    "##### **Merging dataframe**"
   ]
  },
  {
   "cell_type": "code",
   "execution_count": 85,
   "metadata": {},
   "outputs": [],
   "source": [
    "df1 = pd.DataFrame([[\"A\", 1], [\"B\", 2]], columns = [\"col_a\", \"col_b\"])\n",
    "df2 = pd.DataFrame([[\"A\", 3], [\"B\", 4]], columns = [\"col_a\", \"col_c\"])"
   ]
  },
  {
   "cell_type": "code",
   "execution_count": 87,
   "metadata": {},
   "outputs": [
    {
     "name": "stdout",
     "output_type": "stream",
     "text": [
      "1.24 ms ± 64.6 µs per loop (mean ± std. dev. of 7 runs, 1000 loops each)\n"
     ]
    }
   ],
   "source": [
    "%%timeit for i in range(1000): True \n",
    "\n",
    "pd.merge(df1, df2, on = \"col_a\", how = \"inner\")"
   ]
  },
  {
   "cell_type": "code",
   "execution_count": 89,
   "metadata": {},
   "outputs": [],
   "source": [
    "df1.set_index(\"col_a\", inplace=True)\n",
    "df2.set_index(\"col_a\", inplace=True)"
   ]
  },
  {
   "cell_type": "code",
   "execution_count": 90,
   "metadata": {},
   "outputs": [
    {
     "name": "stdout",
     "output_type": "stream",
     "text": [
      "244 µs ± 11.4 µs per loop (mean ± std. dev. of 7 runs, 1000 loops each)\n"
     ]
    }
   ],
   "source": [
    "%%timeit for i in range(1000): True \n",
    "\n",
    "df1.join(df2)"
   ]
  },
  {
   "cell_type": "markdown",
   "metadata": {},
   "source": []
  }
 ],
 "metadata": {
  "kernelspec": {
   "display_name": "Python 3.7.13 ('fava_env')",
   "language": "python",
   "name": "python3"
  },
  "language_info": {
   "codemirror_mode": {
    "name": "ipython",
    "version": 3
   },
   "file_extension": ".py",
   "mimetype": "text/x-python",
   "name": "python",
   "nbconvert_exporter": "python",
   "pygments_lexer": "ipython3",
   "version": "3.7.13"
  },
  "orig_nbformat": 4,
  "vscode": {
   "interpreter": {
    "hash": "4833de044e4e16a28a6955ae2b2b175e01f1961e62719d5afe00d7bbddbbf654"
   }
  }
 },
 "nbformat": 4,
 "nbformat_minor": 2
}
