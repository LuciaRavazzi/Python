{
 "cells": [
  {
   "cell_type": "markdown",
   "id": "5f44035f",
   "metadata": {},
   "source": [
    "## **ROCK, PIPER, SCISSOR**"
   ]
  },
  {
   "cell_type": "code",
   "execution_count": 1,
   "id": "ee89716e",
   "metadata": {},
   "outputs": [
    {
     "name": "stdout",
     "output_type": "stream",
     "text": [
      "Requirement already satisfied: RockPaperScissor in c:\\users\\lucia\\anaconda3\\lib\\site-packages (0.1)\n",
      "Requirement already satisfied: nose in c:\\users\\lucia\\anaconda3\\lib\\site-packages (from RockPaperScissor) (1.3.7)\n"
     ]
    }
   ],
   "source": [
    "!pip install RockPaperScissor"
   ]
  },
  {
   "cell_type": "code",
   "execution_count": 1,
   "id": "e25904b3",
   "metadata": {},
   "outputs": [],
   "source": [
    "from RockPaperScissor.RockPaperScissor.RockPaperScissor  import game"
   ]
  },
  {
   "cell_type": "code",
   "execution_count": 2,
   "id": "a41ca63d",
   "metadata": {},
   "outputs": [],
   "source": [
    "g = game()"
   ]
  },
  {
   "cell_type": "code",
   "execution_count": 3,
   "id": "429b5e79",
   "metadata": {},
   "outputs": [
    {
     "name": "stdout",
     "output_type": "stream",
     "text": [
      "Number of matches: 4\n",
      "\n",
      " ----- ROUND NUMBER: 1\n",
      "Your move: Scissor\n",
      "You drew: retry\n",
      "----- MY GAME: Scissor vs. PC MOVE: Scissor\n",
      "\n",
      " ----- ROUND NUMBER: 1\n",
      "Your move: Scissor\n",
      "My score: 0 vs. PC score: 1\n",
      "----- MY GAME: Scissor vs. PC MOVE: Rock\n",
      "\n",
      " ----- ROUND NUMBER: 2\n",
      "Your move: Scissor\n",
      "My score: 1 vs. PC score: 1\n",
      "----- MY GAME: Scissor vs. PC MOVE: Paper\n",
      "\n",
      " ----- ROUND NUMBER: 3\n",
      "Your move: Scissor\n",
      "My score: 1 vs. PC score: 2\n",
      "----- MY GAME: Scissor vs. PC MOVE: Rock\n",
      "\n",
      " ----- ROUND NUMBER: 4\n",
      "Your move: Scissor\n",
      "My score: 2 vs. PC score: 2\n",
      "----- MY GAME: Scissor vs. PC MOVE: Paper\n",
      "\n",
      "\n",
      "\n",
      "***-------- THE END --------***\n",
      "My score: 2 vs. PC score: 2 ---> PC\n"
     ]
    }
   ],
   "source": [
    "g.start_the_game()"
   ]
  },
  {
   "cell_type": "code",
   "execution_count": null,
   "id": "8780fa0a",
   "metadata": {},
   "outputs": [],
   "source": [
    "ScissorScissorScissor"
   ]
  }
 ],
 "metadata": {
  "kernelspec": {
   "display_name": "Python 3",
   "language": "python",
   "name": "python3"
  },
  "language_info": {
   "codemirror_mode": {
    "name": "ipython",
    "version": 3
   },
   "file_extension": ".py",
   "mimetype": "text/x-python",
   "name": "python",
   "nbconvert_exporter": "python",
   "pygments_lexer": "ipython3",
   "version": "3.8.8"
  },
  "latex_envs": {
   "LaTeX_envs_menu_present": true,
   "autoclose": false,
   "autocomplete": true,
   "bibliofile": "biblio.bib",
   "cite_by": "apalike",
   "current_citInitial": 1,
   "eqLabelWithNumbers": true,
   "eqNumInitial": 1,
   "hotkeys": {
    "equation": "Ctrl-E",
    "itemize": "Ctrl-I"
   },
   "labels_anchors": false,
   "latex_user_defs": false,
   "report_style_numbering": false,
   "user_envs_cfg": false
  },
  "toc": {
   "base_numbering": 1,
   "nav_menu": {},
   "number_sections": true,
   "sideBar": true,
   "skip_h1_title": false,
   "title_cell": "Table of Contents",
   "title_sidebar": "Contents",
   "toc_cell": false,
   "toc_position": {},
   "toc_section_display": true,
   "toc_window_display": false
  },
  "varInspector": {
   "cols": {
    "lenName": 16,
    "lenType": 16,
    "lenVar": 40
   },
   "kernels_config": {
    "python": {
     "delete_cmd_postfix": "",
     "delete_cmd_prefix": "del ",
     "library": "var_list.py",
     "varRefreshCmd": "print(var_dic_list())"
    },
    "r": {
     "delete_cmd_postfix": ") ",
     "delete_cmd_prefix": "rm(",
     "library": "var_list.r",
     "varRefreshCmd": "cat(var_dic_list()) "
    }
   },
   "types_to_exclude": [
    "module",
    "function",
    "builtin_function_or_method",
    "instance",
    "_Feature"
   ],
   "window_display": false
  }
 },
 "nbformat": 4,
 "nbformat_minor": 5
}
