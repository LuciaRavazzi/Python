{
 "cells": [
  {
   "cell_type": "markdown",
   "id": "a12a977c",
   "metadata": {},
   "source": [
    "## **QR CODE**\n",
    "\n",
    "\n",
    "Il QR code è stato in Giappone nel 1994 per utilizzo interno della Toyota. \n",
    "Si compone dei seguenti componenti:\n",
    "- I tre blocchi in alto a sinistra e destra ed uno in basso a sinistra. Questi servono per aiutare il dispoditivo all'allineamento.\n",
    "- Un blocco in basso a destra serve per il riconoscimento dei limiti del QR se la superficie dovesse essere non piatta. \n",
    "- Parte dei contorni dei tre blocchi principali indicano l'errore di correzione, ovvero la tolleranza nel recupero dell'informazione persa: maggiore sarà tle tolleranza, più faile sarà recuperare l'informazione. \n",
    "- Inoltre, sempre vicnino ai tre blocchi principali vi sono la versione, ovvero la dimensione del qr code, e il formato, ovvero il tipo di dato che sta descrivendo.\n",
    "- Le altre componenti descrivono l'informazione reale emorizzata, \n",
    "\n",
    "Per uteriori informazioni: https://it.qr-code-generator.com/qr-code-marketing/qr-codes-basics/"
   ]
  },
  {
   "cell_type": "markdown",
   "id": "9d8af7b7",
   "metadata": {},
   "source": []
  },
  {
   "cell_type": "code",
   "execution_count": 1,
   "id": "33ae1275",
   "metadata": {
    "ExecuteTime": {
     "end_time": "2021-09-23T19:00:43.464001Z",
     "start_time": "2021-09-23T19:00:36.641006Z"
    }
   },
   "outputs": [
    {
     "name": "stdout",
     "output_type": "stream",
     "text": [
      "Collecting qrcode\n",
      "  Downloading qrcode-7.3.tar.gz (43 kB)\n",
      "Requirement already satisfied: colorama in c:\\users\\lucia\\anaconda3\\lib\\site-packages (from qrcode) (0.4.4)\n",
      "Building wheels for collected packages: qrcode\n",
      "  Building wheel for qrcode (setup.py): started\n",
      "  Building wheel for qrcode (setup.py): finished with status 'done'\n",
      "  Created wheel for qrcode: filename=qrcode-7.3-py3-none-any.whl size=40224 sha256=4df34bd19a231103e09eb09a45e4dda2e95f59c873cd7fb7015c5040ae3ef911\n",
      "  Stored in directory: c:\\users\\lucia\\appdata\\local\\pip\\cache\\wheels\\94\\7d\\9f\\316e6791be6447d213fff86442850ccb2849d9af00796e0311\n",
      "Successfully built qrcode\n",
      "Installing collected packages: qrcode\n",
      "Successfully installed qrcode-7.3\n"
     ]
    }
   ],
   "source": [
    "!pip install qrcode"
   ]
  },
  {
   "cell_type": "code",
   "execution_count": 2,
   "id": "e19f3bac",
   "metadata": {
    "ExecuteTime": {
     "end_time": "2021-09-23T19:00:53.467315Z",
     "start_time": "2021-09-23T19:00:53.443359Z"
    }
   },
   "outputs": [],
   "source": [
    "import qrcode"
   ]
  },
  {
   "cell_type": "code",
   "execution_count": 36,
   "id": "51e76bb5",
   "metadata": {
    "ExecuteTime": {
     "end_time": "2021-09-23T20:00:52.901013Z",
     "start_time": "2021-09-23T20:00:52.861443Z"
    }
   },
   "outputs": [
    {
     "data": {
      "image/png": "[encoded data removed]",
      "text/plain": [
       "<qrcode.image.pil.PilImage at 0x262616a7df0>"
      ]
     },
     "execution_count": 36,
     "metadata": {},
     "output_type": "execute_result"
    }
   ],
   "source": [
    "# QR è l'acronimo di quick response. Fu inventato in Giappone dalla Toyota\n",
    "# ma si diffuse in tutto il mondo succesivamente perché\n",
    "# era in grado di contenere più informazione rispetto al semplice barcode. \n",
    "\n",
    "img = qrcode.make('Ti saluto o non ti saluto? Questo è il dilemma.')\n",
    "# img.save('qrcode.png')\n",
    "img"
   ]
  },
  {
   "cell_type": "code",
   "execution_count": 15,
   "id": "f98c1902",
   "metadata": {
    "ExecuteTime": {
     "end_time": "2021-09-23T19:28:46.647941Z",
     "start_time": "2021-09-23T19:28:46.609931Z"
    }
   },
   "outputs": [
    {
     "data": {
      "image/png": "[encoded data removed]",
      "text/plain": [
       "<qrcode.image.pil.PilImage at 0x2625b6c6fa0>"
      ]
     },
     "execution_count": 15,
     "metadata": {},
     "output_type": "execute_result"
    }
   ],
   "source": [
    "qr = qrcode.QRCode(\n",
    "    version = 1, # definisce la dimensione del qrcode. All'aumentare della versione, il qrcode aumenta di dimensione. \n",
    "    error_correction = qrcode.constants.ERROR_CORRECT_L, # definisce la capacità del codice qr di recuperare i dati persi. All'aumentare della tolleranza, la dimensione del codice aumenterà.\n",
    "    box_size = 10, #  numero di pixel in ogni box.\n",
    "    border = 4 # spessore del bordo che circonda il codice.\n",
    ")\n",
    "qr.add_data(\"https://abhijithchandradas.medium.com/\")\n",
    "qr.make(fit=True)\n",
    "img = qr.make_image()\n",
    "img"
   ]
  },
  {
   "cell_type": "markdown",
   "id": "83d8582f",
   "metadata": {},
   "source": [
    "## **QR CODE FOR PDF**"
   ]
  },
  {
   "cell_type": "code",
   "execution_count": 16,
   "id": "81895777",
   "metadata": {
    "ExecuteTime": {
     "end_time": "2021-09-23T19:46:10.972452Z",
     "start_time": "2021-09-23T19:46:03.629042Z"
    }
   },
   "outputs": [
    {
     "name": "stdout",
     "output_type": "stream",
     "text": [
      "Collecting reportlab-qrcode\n",
      "  Downloading reportlab-qrcode-0.1.4.tar.gz (3.5 kB)\n",
      "Requirement already satisfied: qrcode in c:\\users\\lucia\\anaconda3\\lib\\site-packages (from reportlab-qrcode) (7.3)\n",
      "Collecting reportlab\n",
      "  Downloading reportlab-3.6.1-cp38-cp38-win_amd64.whl (2.3 MB)\n",
      "Requirement already satisfied: colorama in c:\\users\\lucia\\anaconda3\\lib\\site-packages (from qrcode->reportlab-qrcode) (0.4.4)\n",
      "Requirement already satisfied: pillow>=4.0.0 in c:\\users\\lucia\\anaconda3\\lib\\site-packages (from reportlab->reportlab-qrcode) (8.2.0)\n",
      "Building wheels for collected packages: reportlab-qrcode\n",
      "  Building wheel for reportlab-qrcode (setup.py): started\n",
      "  Building wheel for reportlab-qrcode (setup.py): finished with status 'done'\n",
      "  Created wheel for reportlab-qrcode: filename=reportlab_qrcode-0.1.4-py3-none-any.whl size=3623 sha256=71b6c36cbd28047bc2d8cd22a10b4089a00c434d993072d3ec942190603c6f97\n",
      "  Stored in directory: c:\\users\\lucia\\appdata\\local\\pip\\cache\\wheels\\a9\\15\\ce\\849f7a6ed59aa62e94f9d2bf3feaaab13cfdc24b405f78005e\n",
      "Successfully built reportlab-qrcode\n",
      "Installing collected packages: reportlab, reportlab-qrcode\n",
      "Successfully installed reportlab-3.6.1 reportlab-qrcode-0.1.4\n"
     ]
    }
   ],
   "source": [
    "!pip install reportlab-qrcode"
   ]
  },
  {
   "cell_type": "code",
   "execution_count": 22,
   "id": "cbb96b1c",
   "metadata": {
    "ExecuteTime": {
     "end_time": "2021-09-23T19:48:05.878020Z",
     "start_time": "2021-09-23T19:48:05.874016Z"
    }
   },
   "outputs": [],
   "source": [
    "from reportlab.lib.units import mm\n",
    "from reportlab.pdfgen.canvas import Canvas\n",
    "from reportlab_qrcode import QRCodeImage"
   ]
  },
  {
   "cell_type": "code",
   "execution_count": 30,
   "id": "12373758",
   "metadata": {
    "ExecuteTime": {
     "end_time": "2021-09-23T19:48:55.373289Z",
     "start_time": "2021-09-23T19:48:55.346605Z"
    }
   },
   "outputs": [],
   "source": [
    "doc = Canvas('Time Seris.pdf')\n",
    "qr = QRCodeImage('TimeSeriesQR', size=30 * mm)\n",
    "qr.drawOn(doc, 0, 0)"
   ]
  },
  {
   "cell_type": "code",
   "execution_count": 31,
   "id": "8521a89b",
   "metadata": {
    "ExecuteTime": {
     "end_time": "2021-09-23T19:48:55.808710Z",
     "start_time": "2021-09-23T19:48:55.794615Z"
    }
   },
   "outputs": [],
   "source": [
    "doc.showPage()\n",
    "doc.save()"
   ]
  }
 ],
 "metadata": {
  "kernelspec": {
   "display_name": "Python 3",
   "language": "python",
   "name": "python3"
  },
  "language_info": {
   "codemirror_mode": {
    "name": "ipython",
    "version": 3
   },
   "file_extension": ".py",
   "mimetype": "text/x-python",
   "name": "python",
   "nbconvert_exporter": "python",
   "pygments_lexer": "ipython3",
   "version": "3.8.8"
  },
  "toc": {
   "base_numbering": 1,
   "nav_menu": {},
   "number_sections": true,
   "sideBar": true,
   "skip_h1_title": false,
   "title_cell": "Table of Contents",
   "title_sidebar": "Contents",
   "toc_cell": false,
   "toc_position": {},
   "toc_section_display": true,
   "toc_window_display": false
  },
  "varInspector": {
   "cols": {
    "lenName": 16,
    "lenType": 16,
    "lenVar": 40
   },
   "kernels_config": {
    "python": {
     "delete_cmd_postfix": "",
     "delete_cmd_prefix": "del ",
     "library": "var_list.py",
     "varRefreshCmd": "print(var_dic_list())"
    },
    "r": {
     "delete_cmd_postfix": ") ",
     "delete_cmd_prefix": "rm(",
     "library": "var_list.r",
     "varRefreshCmd": "cat(var_dic_list()) "
    }
   },
   "types_to_exclude": [
    "module",
    "function",
    "builtin_function_or_method",
    "instance",
    "_Feature"
   ],
   "window_display": false
  }
 },
 "nbformat": 4,
 "nbformat_minor": 5
}
