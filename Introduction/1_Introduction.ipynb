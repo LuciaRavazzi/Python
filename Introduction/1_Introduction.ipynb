{
 "cells": [
  {
   "cell_type": "markdown",
   "id": "c01ebfce",
   "metadata": {},
   "source": [
    "### Arithmetic operations "
   ]
  },
  {
   "cell_type": "code",
   "execution_count": 3,
   "id": "d6e05afe",
   "metadata": {},
   "outputs": [
    {
     "data": {
      "text/plain": [
       "4"
      ]
     },
     "execution_count": 3,
     "metadata": {},
     "output_type": "execute_result"
    }
   ],
   "source": [
    "2 + 2"
   ]
  },
  {
   "cell_type": "code",
   "execution_count": 4,
   "id": "a7de430f",
   "metadata": {},
   "outputs": [
    {
     "data": {
      "text/plain": [
       "4"
      ]
     },
     "execution_count": 4,
     "metadata": {},
     "output_type": "execute_result"
    }
   ],
   "source": [
    "2 * 2"
   ]
  },
  {
   "cell_type": "code",
   "execution_count": 5,
   "id": "6800c4f8",
   "metadata": {},
   "outputs": [
    {
     "data": {
      "text/plain": [
       "0.5"
      ]
     },
     "execution_count": 5,
     "metadata": {},
     "output_type": "execute_result"
    }
   ],
   "source": [
    "2 / 4"
   ]
  },
  {
   "cell_type": "code",
   "execution_count": 6,
   "id": "9257ee0a",
   "metadata": {},
   "outputs": [
    {
     "data": {
      "text/plain": [
       "0"
      ]
     },
     "execution_count": 6,
     "metadata": {},
     "output_type": "execute_result"
    }
   ],
   "source": [
    "2 // 4"
   ]
  },
  {
   "cell_type": "code",
   "execution_count": 1,
   "id": "3fb91ed0",
   "metadata": {},
   "outputs": [
    {
     "ename": "TypeError",
     "evalue": "can only concatenate str (not \"int\") to str",
     "output_type": "error",
     "traceback": [
      "\u001b[1;31m----------------------------------------------------------------------\u001b[0m",
      "\u001b[1;31mTypeError\u001b[0m                            Traceback (most recent call last)",
      "\u001b[1;32m<ipython-input-1-5aa8a24e3e06>\u001b[0m in \u001b[0;36m<module>\u001b[1;34m\u001b[0m\n\u001b[1;32m----> 1\u001b[1;33m \u001b[1;34m\"a\"\u001b[0m \u001b[1;33m+\u001b[0m \u001b[1;36m3\u001b[0m\u001b[1;33m\u001b[0m\u001b[1;33m\u001b[0m\u001b[0m\n\u001b[0m",
      "\u001b[1;31mTypeError\u001b[0m: can only concatenate str (not \"int\") to str"
     ]
    }
   ],
   "source": [
    "\"a\" + 3"
   ]
  },
  {
   "cell_type": "code",
   "execution_count": 2,
   "id": "6068176e",
   "metadata": {},
   "outputs": [
    {
     "data": {
      "text/plain": [
       "'sss'"
      ]
     },
     "execution_count": 2,
     "metadata": {},
     "output_type": "execute_result"
    }
   ],
   "source": [
    "# Interessante.\n",
    "\"s\" * 3"
   ]
  },
  {
   "cell_type": "markdown",
   "id": "4943fae2",
   "metadata": {},
   "source": [
    "### Conditional operators"
   ]
  },
  {
   "cell_type": "code",
   "execution_count": 12,
   "id": "9cad5bad",
   "metadata": {},
   "outputs": [
    {
     "data": {
      "text/plain": [
       "False"
      ]
     },
     "execution_count": 12,
     "metadata": {},
     "output_type": "execute_result"
    }
   ],
   "source": [
    "2 > 3"
   ]
  },
  {
   "cell_type": "code",
   "execution_count": 13,
   "id": "fb164045",
   "metadata": {},
   "outputs": [
    {
     "data": {
      "text/plain": [
       "True"
      ]
     },
     "execution_count": 13,
     "metadata": {},
     "output_type": "execute_result"
    }
   ],
   "source": [
    "2*2 < 4*4"
   ]
  },
  {
   "cell_type": "markdown",
   "id": "4c0561e9",
   "metadata": {},
   "source": [
    "### Logical operators"
   ]
  },
  {
   "cell_type": "code",
   "execution_count": 7,
   "id": "aab241da",
   "metadata": {},
   "outputs": [
    {
     "data": {
      "text/plain": [
       "0"
      ]
     },
     "execution_count": 7,
     "metadata": {},
     "output_type": "execute_result"
    }
   ],
   "source": [
    "0 and 3"
   ]
  },
  {
   "cell_type": "code",
   "execution_count": 9,
   "id": "6fa7f1c0",
   "metadata": {},
   "outputs": [
    {
     "data": {
      "text/plain": [
       "0"
      ]
     },
     "execution_count": 9,
     "metadata": {},
     "output_type": "execute_result"
    }
   ],
   "source": [
    "0 and 0"
   ]
  },
  {
   "cell_type": "code",
   "execution_count": 11,
   "id": "f9b149ac",
   "metadata": {},
   "outputs": [
    {
     "data": {
      "text/plain": [
       "4"
      ]
     },
     "execution_count": 11,
     "metadata": {},
     "output_type": "execute_result"
    }
   ],
   "source": [
    "3 and 4"
   ]
  },
  {
   "cell_type": "code",
   "execution_count": 8,
   "id": "e5140d8b",
   "metadata": {},
   "outputs": [
    {
     "data": {
      "text/plain": [
       "3"
      ]
     },
     "execution_count": 8,
     "metadata": {},
     "output_type": "execute_result"
    }
   ],
   "source": [
    "0 or 3"
   ]
  },
  {
   "cell_type": "markdown",
   "id": "58881a6a",
   "metadata": {},
   "source": [
    "### Variables and data types\n",
    "\n",
    "Int, float, boolean and string."
   ]
  },
  {
   "cell_type": "code",
   "execution_count": 14,
   "id": "119f66dd",
   "metadata": {},
   "outputs": [
    {
     "name": "stdout",
     "output_type": "stream",
     "text": [
      "3\n"
     ]
    }
   ],
   "source": [
    "i = 3\n",
    "print(i)"
   ]
  },
  {
   "cell_type": "code",
   "execution_count": 15,
   "id": "be6ec8be",
   "metadata": {},
   "outputs": [],
   "source": [
    "_s = 3"
   ]
  },
  {
   "cell_type": "code",
   "execution_count": 16,
   "id": "99c9f299",
   "metadata": {},
   "outputs": [
    {
     "ename": "SyntaxError",
     "evalue": "invalid syntax (<ipython-input-16-4ca9e3c2b2fd>, line 1)",
     "output_type": "error",
     "traceback": [
      "\u001b[1;36m  File \u001b[1;32m\"<ipython-input-16-4ca9e3c2b2fd>\"\u001b[1;36m, line \u001b[1;32m1\u001b[0m\n\u001b[1;33m    @s = 3\u001b[0m\n\u001b[1;37m       ^\u001b[0m\n\u001b[1;31mSyntaxError\u001b[0m\u001b[1;31m:\u001b[0m invalid syntax\n"
     ]
    }
   ],
   "source": [
    "Conditio@s = 3"
   ]
  },
  {
   "cell_type": "code",
   "execution_count": 17,
   "id": "93996aa6",
   "metadata": {},
   "outputs": [
    {
     "data": {
      "text/plain": [
       "int"
      ]
     },
     "execution_count": 17,
     "metadata": {},
     "output_type": "execute_result"
    }
   ],
   "source": [
    "a = 5\n",
    "type(a)"
   ]
  },
  {
   "cell_type": "code",
   "execution_count": 18,
   "id": "7c6425ca",
   "metadata": {},
   "outputs": [
    {
     "data": {
      "text/plain": [
       "str"
      ]
     },
     "execution_count": 18,
     "metadata": {},
     "output_type": "execute_result"
    }
   ],
   "source": [
    "b = 'ss'\n",
    "type(b)"
   ]
  },
  {
   "cell_type": "code",
   "execution_count": 19,
   "id": "8f6106f5",
   "metadata": {},
   "outputs": [
    {
     "data": {
      "text/plain": [
       "float"
      ]
     },
     "execution_count": 19,
     "metadata": {},
     "output_type": "execute_result"
    }
   ],
   "source": [
    "c = 1.5\n",
    "type(c)"
   ]
  },
  {
   "cell_type": "code",
   "execution_count": 20,
   "id": "917fc3ba",
   "metadata": {},
   "outputs": [
    {
     "data": {
      "text/plain": [
       "{'a', 'd', 'h', 's'}"
      ]
     },
     "execution_count": 20,
     "metadata": {},
     "output_type": "execute_result"
    }
   ],
   "source": [
    "# Interessante.\n",
    "\n",
    "set('ahshdh')"
   ]
  },
  {
   "cell_type": "markdown",
   "id": "450d005d",
   "metadata": {},
   "source": [
    "### Conditional statement"
   ]
  },
  {
   "cell_type": "code",
   "execution_count": 21,
   "id": "f71bf422",
   "metadata": {},
   "outputs": [
    {
     "name": "stdout",
     "output_type": "stream",
     "text": [
      "3\n"
     ]
    }
   ],
   "source": [
    "# Interessante.\n",
    "\n",
    "a = 3\n",
    "\n",
    "if a > 4:\n",
    "    print('4')\n",
    "elif a == 3:\n",
    "    print('3')"
   ]
  },
  {
   "cell_type": "code",
   "execution_count": 24,
   "id": "efa17b0d",
   "metadata": {},
   "outputs": [
    {
     "name": "stdout",
     "output_type": "stream",
     "text": [
      "0\n",
      "1\n",
      "2\n",
      "3\n",
      "4\n",
      "5\n",
      "6\n",
      "7\n",
      "8\n",
      "9\n"
     ]
    }
   ],
   "source": [
    "for i in range(10):\n",
    "    print(i)"
   ]
  },
  {
   "cell_type": "code",
   "execution_count": 26,
   "id": "35e87e99",
   "metadata": {},
   "outputs": [],
   "source": [
    "for i in '':\n",
    "    print(i)"
   ]
  },
  {
   "cell_type": "code",
   "execution_count": 32,
   "id": "1db58c45",
   "metadata": {},
   "outputs": [
    {
     "name": "stdout",
     "output_type": "stream",
     "text": [
      "10\n",
      "12\n",
      "14\n",
      "16\n",
      "18\n",
      "20\n",
      "22\n",
      "24\n",
      "26\n",
      "28\n",
      "30\n",
      "32\n",
      "34\n",
      "36\n",
      "38\n",
      "40\n",
      "42\n",
      "44\n",
      "46\n",
      "48\n",
      "50\n"
     ]
    }
   ],
   "source": [
    "for i in range(10, 51, 2):\n",
    "        print(i)"
   ]
  },
  {
   "cell_type": "markdown",
   "id": "78dbed52",
   "metadata": {},
   "source": [
    "### Functions\n",
    "\n",
    "Built-in, e.g. range(), min(), max() etc. vs. customized function."
   ]
  },
  {
   "cell_type": "code",
   "execution_count": 35,
   "id": "73120991",
   "metadata": {},
   "outputs": [
    {
     "name": "stdout",
     "output_type": "stream",
     "text": [
      "2\n"
     ]
    }
   ],
   "source": [
    "def maximum(a,b):\n",
    "    if a == b:\n",
    "        print(a)\n",
    "    elif a > b:\n",
    "        print(a)\n",
    "    elif b > a:\n",
    "        print(b)\n",
    "        \n",
    "        \n",
    "maximum(2,-3)"
   ]
  },
  {
   "cell_type": "markdown",
   "id": "8d6fd726",
   "metadata": {},
   "source": [
    "### Data Structures\n",
    "\n",
    "Problems with the existing data types:\n",
    "- Data in a variable can be stored in a single format.\n",
    "- Large memory overhead by creating large number of variables\n",
    "- Unfit for storing large structures\n",
    "\n",
    "Two data structure for solving these problems:\n",
    "- List: index is implicit. It's a columns -> append, extend, del, remove.\n",
    "- Dictionary: index is explicit. It's a rpw -> del\n",
    "\n",
    "because otherwise I have to compute operations for all variables: I want to structure the numbers."
   ]
  },
  {
   "cell_type": "markdown",
   "id": "dd2ba8af",
   "metadata": {},
   "source": [
    "#### LIST"
   ]
  },
  {
   "cell_type": "code",
   "execution_count": 37,
   "id": "43e47c3f",
   "metadata": {},
   "outputs": [
    {
     "data": {
      "text/plain": [
       "[1, 2]"
      ]
     },
     "execution_count": 37,
     "metadata": {},
     "output_type": "execute_result"
    }
   ],
   "source": [
    "l = [1,2,3,4]\n",
    "\n",
    "l[0:2]"
   ]
  },
  {
   "cell_type": "code",
   "execution_count": 38,
   "id": "51a7924c",
   "metadata": {},
   "outputs": [
    {
     "data": {
      "text/plain": [
       "4"
      ]
     },
     "execution_count": 38,
     "metadata": {},
     "output_type": "execute_result"
    }
   ],
   "source": [
    "l[-1]"
   ]
  },
  {
   "cell_type": "code",
   "execution_count": 39,
   "id": "bba51943",
   "metadata": {},
   "outputs": [],
   "source": [
    "l.append(8)"
   ]
  },
  {
   "cell_type": "code",
   "execution_count": 41,
   "id": "323807bb",
   "metadata": {},
   "outputs": [],
   "source": [
    "l.append([2,3])"
   ]
  },
  {
   "cell_type": "code",
   "execution_count": 43,
   "id": "789ac401",
   "metadata": {},
   "outputs": [
    {
     "data": {
      "text/plain": [
       "[1, 2, 3, 4, 8, [2, 3], [2, 3]]"
      ]
     },
     "execution_count": 43,
     "metadata": {},
     "output_type": "execute_result"
    }
   ],
   "source": [
    "l"
   ]
  },
  {
   "cell_type": "code",
   "execution_count": 45,
   "id": "432564ae",
   "metadata": {},
   "outputs": [
    {
     "data": {
      "text/plain": [
       "[1, 2, 3, 4, 8, [2, 3], [2, 3], 8, 9, 0]"
      ]
     },
     "execution_count": 45,
     "metadata": {},
     "output_type": "execute_result"
    }
   ],
   "source": [
    "# Interesting: add some values without list.\n",
    "\n",
    "l.extend([8,9,0])\n",
    "l"
   ]
  },
  {
   "cell_type": "code",
   "execution_count": 52,
   "id": "330920c0",
   "metadata": {},
   "outputs": [
    {
     "data": {
      "text/plain": [
       "[2, 3, 4, [2, 3], [2, 3]]"
      ]
     },
     "execution_count": 52,
     "metadata": {},
     "output_type": "execute_result"
    }
   ],
   "source": [
    "# remove the element equal to 0\n",
    "l.remove(0)\n",
    "l"
   ]
  },
  {
   "cell_type": "code",
   "execution_count": 51,
   "id": "f995b8b1",
   "metadata": {},
   "outputs": [
    {
     "data": {
      "text/plain": [
       "[2, 3, 4, [2, 3], [2, 3], 0]"
      ]
     },
     "execution_count": 51,
     "metadata": {},
     "output_type": "execute_result"
    }
   ],
   "source": [
    "del l[0]\n",
    "l"
   ]
  },
  {
   "cell_type": "code",
   "execution_count": 54,
   "id": "c278d797",
   "metadata": {},
   "outputs": [
    {
     "name": "stdout",
     "output_type": "stream",
     "text": [
      "0 2\n",
      "1 3\n",
      "2 4\n",
      "3 [2, 3]\n",
      "4 [2, 3]\n"
     ]
    }
   ],
   "source": [
    "for i, elem in enumerate(l):\n",
    "    print(i, elem)"
   ]
  },
  {
   "cell_type": "markdown",
   "id": "465d8aea",
   "metadata": {},
   "source": [
    "#### DICTIONARY\n",
    "\n",
    "It is used with unordered data. List is usefule when data define only one element -> if there are more features, they have to be expressed."
   ]
  },
  {
   "cell_type": "code",
   "execution_count": 55,
   "id": "46f2d9c5",
   "metadata": {},
   "outputs": [],
   "source": [
    "d = {\n",
    "    'me': 90,\n",
    "    'you': 100,\n",
    "    'she': 120\n",
    "}"
   ]
  },
  {
   "cell_type": "code",
   "execution_count": 57,
   "id": "70d5fbd8",
   "metadata": {},
   "outputs": [
    {
     "data": {
      "text/plain": [
       "90"
      ]
     },
     "execution_count": 57,
     "metadata": {},
     "output_type": "execute_result"
    }
   ],
   "source": [
    "d['me']"
   ]
  },
  {
   "cell_type": "code",
   "execution_count": 58,
   "id": "1660f924",
   "metadata": {},
   "outputs": [
    {
     "data": {
      "text/plain": [
       "{'me': 1000, 'you': 100, 'she': 120}"
      ]
     },
     "execution_count": 58,
     "metadata": {},
     "output_type": "execute_result"
    }
   ],
   "source": [
    "d['me'] = 1000\n",
    "d"
   ]
  },
  {
   "cell_type": "code",
   "execution_count": 59,
   "id": "4b8ffb90",
   "metadata": {},
   "outputs": [],
   "source": [
    "del d['me']"
   ]
  },
  {
   "cell_type": "code",
   "execution_count": 61,
   "id": "ea43ffd3",
   "metadata": {},
   "outputs": [
    {
     "data": {
      "text/plain": [
       "{'you': 100, 'she': 120, 'aa': 3}"
      ]
     },
     "execution_count": 61,
     "metadata": {},
     "output_type": "execute_result"
    }
   ],
   "source": [
    "d.update({'aa': 3})\n",
    "d"
   ]
  },
  {
   "cell_type": "code",
   "execution_count": 62,
   "id": "49728c6e",
   "metadata": {},
   "outputs": [
    {
     "ename": "KeyError",
     "evalue": "1",
     "output_type": "error",
     "traceback": [
      "\u001b[1;31m----------------------------------------------------------------------\u001b[0m",
      "\u001b[1;31mKeyError\u001b[0m                             Traceback (most recent call last)",
      "\u001b[1;32m<ipython-input-62-0850811b9035>\u001b[0m in \u001b[0;36m<module>\u001b[1;34m\u001b[0m\n\u001b[0;32m      1\u001b[0m \u001b[0ma\u001b[0m \u001b[1;33m=\u001b[0m \u001b[0mdict\u001b[0m\u001b[1;33m(\u001b[0m\u001b[1;33m)\u001b[0m\u001b[1;33m\u001b[0m\u001b[1;33m\u001b[0m\u001b[0m\n\u001b[1;32m----> 2\u001b[1;33m \u001b[0ma\u001b[0m\u001b[1;33m[\u001b[0m\u001b[1;36m1\u001b[0m\u001b[1;33m]\u001b[0m\u001b[1;33m\u001b[0m\u001b[1;33m\u001b[0m\u001b[0m\n\u001b[0m",
      "\u001b[1;31mKeyError\u001b[0m: 1"
     ]
    }
   ],
   "source": [
    "a = dict()\n",
    "a[1]"
   ]
  },
  {
   "cell_type": "markdown",
   "id": "fb2e009b",
   "metadata": {},
   "source": [
    "### STADARD LIBRARY, MODULE, PACKAGES\n",
    "\n",
    "__Standard library__ is a collection  of skills such as built-in functions, built-in constants (True, None etc.), data types, file formats (csv etc.). \n",
    "__Module__ is set of functions, i.e. a .py file, and __package__ is a set of modules. R is different in R environment."
   ]
  },
  {
   "cell_type": "markdown",
   "id": "9654c4be",
   "metadata": {},
   "source": [
    "### PANDAS\n",
    "\n",
    "It offers a wide range of functionalities:\n",
    "- Reading different varieties of data\n",
    "- Functionalities for filtering, selectiong and manipulating data\n",
    "- Plotting data for visualization and exploration purpose\n",
    "\n",
    ".iloc for the implicit index and it exists for each dataframe. \n",
    "\n",
    ".loc for the explicit index\n",
    "\n",
    ".gropuby()\n",
    "\n",
    ".crosstab() \n",
    "\n",
    ".pivot_table(df, index, values)"
   ]
  },
  {
   "cell_type": "code",
   "execution_count": 65,
   "id": "91d5dfa4",
   "metadata": {},
   "outputs": [
    {
     "name": "stdout",
     "output_type": "stream",
     "text": [
      "[[50], 20, 30, 40] [[50], 20, 30, 40] [10, 20, 30, 40] [10, 20, 30, 40]\n"
     ]
    }
   ],
   "source": [
    "L1 = [10, 20, 30, 40]\n",
    "\n",
    "L2 = L1\n",
    "\n",
    "L3 = L1.copy()\n",
    "\n",
    "L4 = list(L1)\n",
    "\n",
    "L1[0] = [50]\n",
    "\n",
    "print(L1, L2, L3, L4)"
   ]
  },
  {
   "cell_type": "code",
   "execution_count": 67,
   "id": "401c3313",
   "metadata": {},
   "outputs": [
    {
     "name": "stdout",
     "output_type": "stream",
     "text": [
      "False True True\n"
     ]
    }
   ],
   "source": [
    "print(bool(0), bool(1.11), bool(-5))"
   ]
  },
  {
   "cell_type": "code",
   "execution_count": 72,
   "id": "6ad8a950",
   "metadata": {},
   "outputs": [
    {
     "name": "stderr",
     "output_type": "stream",
     "text": [
      "<ipython-input-72-899c6dd193d3>:3: FutureWarning: The pandas.datetime class is deprecated and will be removed from pandas in a future version. Import from datetime module instead.\n",
      "  pd.datetime.now()\n"
     ]
    },
    {
     "data": {
      "text/plain": [
       "datetime.datetime(2021, 5, 21, 19, 11, 28, 460906)"
      ]
     },
     "execution_count": 72,
     "metadata": {},
     "output_type": "execute_result"
    }
   ],
   "source": [
    "import pandas as pd\n",
    "\n",
    "pd.datetime.now()"
   ]
  },
  {
   "cell_type": "code",
   "execution_count": 75,
   "id": "d1a27912",
   "metadata": {},
   "outputs": [
    {
     "data": {
      "text/plain": [
       "<pandas.core.indexes.accessors.DatetimeProperties object at 0x0000013D7F964FD0>"
      ]
     },
     "execution_count": 75,
     "metadata": {},
     "output_type": "execute_result"
    }
   ],
   "source": [
    "seconds_series = pd.Series(pd.date_range(\"2000-01-01\", periods=3, freq=\"s\"))\n",
    "seconds_series.dt"
   ]
  },
  {
   "cell_type": "code",
   "execution_count": 80,
   "id": "b6ffb777",
   "metadata": {},
   "outputs": [
    {
     "data": {
      "text/plain": [
       "49    10\n",
       "48     5\n",
       "47     6\n",
       "46     2\n",
       "45     3\n",
       "1      1\n",
       "2      4\n",
       "3      8\n",
       "dtype: int64"
      ]
     },
     "execution_count": 80,
     "metadata": {},
     "output_type": "execute_result"
    }
   ],
   "source": [
    "s = pd.Series(data= [10,5,6,2,3,1,4,8,9,7], index=[49,48,47,46,45, 1, 2, 3, 4, 5])\n",
    "s.loc[:3]"
   ]
  },
  {
   "cell_type": "code",
   "execution_count": 84,
   "id": "729df418",
   "metadata": {},
   "outputs": [
    {
     "name": "stdout",
     "output_type": "stream",
     "text": [
      "{1, 2, 3, 4}\n"
     ]
    }
   ],
   "source": [
    "s = {1,2,3}\n",
    "s.add(4)\n",
    "print(s)"
   ]
  },
  {
   "cell_type": "code",
   "execution_count": 85,
   "id": "0b8f2f15",
   "metadata": {},
   "outputs": [
    {
     "data": {
      "text/plain": [
       "{1}"
      ]
     },
     "execution_count": 85,
     "metadata": {},
     "output_type": "execute_result"
    }
   ],
   "source": [
    "{1, True}"
   ]
  }
 ],
 "metadata": {
  "kernelspec": {
   "display_name": "Python 3",
   "language": "python",
   "name": "python3"
  },
  "language_info": {
   "codemirror_mode": {
    "name": "ipython",
    "version": 3
   },
   "file_extension": ".py",
   "mimetype": "text/x-python",
   "name": "python",
   "nbconvert_exporter": "python",
   "pygments_lexer": "ipython3",
   "version": "3.8.8"
  }
 },
 "nbformat": 4,
 "nbformat_minor": 5
}
