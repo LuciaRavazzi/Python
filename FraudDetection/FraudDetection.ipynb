{
 "cells": [
  {
   "cell_type": "markdown",
   "metadata": {},
   "source": [
    "## FRAUD DETECTION\n",
    "\n",
    "Fraud detection can be formulated as a supervised model which classify if a transaction is good or not.  "
   ]
  },
  {
   "cell_type": "markdown",
   "metadata": {},
   "source": [
    "### **IMPORT MODULES**"
   ]
  },
  {
   "cell_type": "code",
   "execution_count": 40,
   "metadata": {
    "ExecuteTime": {
     "end_time": "2022-01-15T08:49:38.656525Z",
     "start_time": "2022-01-15T08:49:38.650529Z"
    }
   },
   "outputs": [],
   "source": [
    "import pandas as pd\n",
    "import numpy as np\n",
    "\n",
    "import seaborn as sns\n",
    "import matplotlib.pyplot as plt\n",
    "plt.style.use('ggplot')\n",
    "\n",
    "import plotly.graph_objects as go\n",
    "\n",
    "from  imblearn.over_sampling import SMOTE\n",
    "\n",
    "from sklearn.preprocessing import StandardScaler\n",
    "from sklearn.model_selection import train_test_split\n",
    "\n",
    "from sklearn.neural_network import MLPClassifier\n",
    "from sklearn.tree import DecisionTreeClassifier\n",
    "from sklearn.neighbors import KNeighborsClassifier\n",
    "from sklearn.linear_model import LogisticRegression\n",
    "# from sklearn.svm import SVC\n",
    "from sklearn.ensemble import RandomForestClassifier\n",
    "\n",
    "from sklearn.metrics import confusion_matrix\n",
    "from sklearn.metrics import accuracy_score\n",
    "from sklearn.metrics import f1_score\n",
    "\n",
    "from sklearn import metrics\n",
    "from sklearn.metrics import classification_report\n",
    "from sklearn.model_selection import cross_val_score\n",
    "from sklearn.metrics import accuracy_score\n",
    "from sklearn.metrics import confusion_matrix\n",
    "\n",
    "import warnings\n",
    "warnings.filterwarnings(\"ignore\")\n"
   ]
  },
  {
   "cell_type": "markdown",
   "metadata": {},
   "source": [
    "### **IMPORT DATASET**\n",
    "\n",
    "Dataset is made up of the following fields:\n",
    "- _step_: hour.\n",
    "- _type_: type of transaction.\n",
    "- _amount_: amount of money involved in the transaction.\n",
    "- _nameOrig_: id of who made the transaction.\n",
    "- _oldbalanceOrig_: balance of who made the transaction before the transaction.\n",
    "- _newbalanceOrig_:  balance of who made the transaction after the transaction.\n",
    "- _nameDest_: id of who receives the transaction.\n",
    "- _oldbalanceOrig_: balance of who receive the transaction before the transaction.\n",
    "- _newbalanceOrig_:  balance of who receive the transaction after the transaction.\n",
    "- _isFraud_: label.\n",
    "- _isFlaggedFraud_: hypothesis of transaction."
   ]
  },
  {
   "cell_type": "code",
   "execution_count": 41,
   "metadata": {
    "ExecuteTime": {
     "end_time": "2022-01-15T08:49:38.702496Z",
     "start_time": "2022-01-15T08:49:38.660526Z"
    }
   },
   "outputs": [],
   "source": [
    "df  =  pd.read_csv('PS_20174392719_1491204439457_log.csv', nrows = 5000)"
   ]
  },
  {
   "cell_type": "code",
   "execution_count": 42,
   "metadata": {
    "ExecuteTime": {
     "end_time": "2022-01-15T08:49:38.717494Z",
     "start_time": "2022-01-15T08:49:38.704496Z"
    }
   },
   "outputs": [
    {
     "data": {
      "text/plain": [
       "(5000, 11)"
      ]
     },
     "execution_count": 42,
     "metadata": {},
     "output_type": "execute_result"
    }
   ],
   "source": [
    "df.shape"
   ]
  },
  {
   "cell_type": "code",
   "execution_count": 43,
   "metadata": {
    "ExecuteTime": {
     "end_time": "2022-01-15T08:49:38.749557Z",
     "start_time": "2022-01-15T08:49:38.719500Z"
    }
   },
   "outputs": [
    {
     "data": {
      "text/html": [
       "<div>\n",
       "<style scoped>\n",
       "    .dataframe tbody tr th:only-of-type {\n",
       "        vertical-align: middle;\n",
       "    }\n",
       "\n",
       "    .dataframe tbody tr th {\n",
       "        vertical-align: top;\n",
       "    }\n",
       "\n",
       "    .dataframe thead th {\n",
       "        text-align: right;\n",
       "    }\n",
       "</style>\n",
       "<table border=\"1\" class=\"dataframe\">\n",
       "  <thead>\n",
       "    <tr style=\"text-align: right;\">\n",
       "      <th></th>\n",
       "      <th>step</th>\n",
       "      <th>type</th>\n",
       "      <th>amount</th>\n",
       "      <th>nameOrig</th>\n",
       "      <th>oldbalanceOrg</th>\n",
       "      <th>newbalanceOrig</th>\n",
       "      <th>nameDest</th>\n",
       "      <th>oldbalanceDest</th>\n",
       "      <th>newbalanceDest</th>\n",
       "      <th>isFraud</th>\n",
       "      <th>isFlaggedFraud</th>\n",
       "    </tr>\n",
       "  </thead>\n",
       "  <tbody>\n",
       "    <tr>\n",
       "      <th>0</th>\n",
       "      <td>1</td>\n",
       "      <td>PAYMENT</td>\n",
       "      <td>9839.64</td>\n",
       "      <td>C1231006815</td>\n",
       "      <td>170136.0</td>\n",
       "      <td>160296.36</td>\n",
       "      <td>M1979787155</td>\n",
       "      <td>0.0</td>\n",
       "      <td>0.0</td>\n",
       "      <td>0</td>\n",
       "      <td>0</td>\n",
       "    </tr>\n",
       "    <tr>\n",
       "      <th>1</th>\n",
       "      <td>1</td>\n",
       "      <td>PAYMENT</td>\n",
       "      <td>1864.28</td>\n",
       "      <td>C1666544295</td>\n",
       "      <td>21249.0</td>\n",
       "      <td>19384.72</td>\n",
       "      <td>M2044282225</td>\n",
       "      <td>0.0</td>\n",
       "      <td>0.0</td>\n",
       "      <td>0</td>\n",
       "      <td>0</td>\n",
       "    </tr>\n",
       "    <tr>\n",
       "      <th>2</th>\n",
       "      <td>1</td>\n",
       "      <td>TRANSFER</td>\n",
       "      <td>181.00</td>\n",
       "      <td>C1305486145</td>\n",
       "      <td>181.0</td>\n",
       "      <td>0.00</td>\n",
       "      <td>C553264065</td>\n",
       "      <td>0.0</td>\n",
       "      <td>0.0</td>\n",
       "      <td>1</td>\n",
       "      <td>0</td>\n",
       "    </tr>\n",
       "    <tr>\n",
       "      <th>3</th>\n",
       "      <td>1</td>\n",
       "      <td>CASH_OUT</td>\n",
       "      <td>181.00</td>\n",
       "      <td>C840083671</td>\n",
       "      <td>181.0</td>\n",
       "      <td>0.00</td>\n",
       "      <td>C38997010</td>\n",
       "      <td>21182.0</td>\n",
       "      <td>0.0</td>\n",
       "      <td>1</td>\n",
       "      <td>0</td>\n",
       "    </tr>\n",
       "    <tr>\n",
       "      <th>4</th>\n",
       "      <td>1</td>\n",
       "      <td>PAYMENT</td>\n",
       "      <td>11668.14</td>\n",
       "      <td>C2048537720</td>\n",
       "      <td>41554.0</td>\n",
       "      <td>29885.86</td>\n",
       "      <td>M1230701703</td>\n",
       "      <td>0.0</td>\n",
       "      <td>0.0</td>\n",
       "      <td>0</td>\n",
       "      <td>0</td>\n",
       "    </tr>\n",
       "  </tbody>\n",
       "</table>\n",
       "</div>"
      ],
      "text/plain": [
       "   step      type    amount     nameOrig  oldbalanceOrg  newbalanceOrig  \\\n",
       "0     1   PAYMENT   9839.64  C1231006815       170136.0       160296.36   \n",
       "1     1   PAYMENT   1864.28  C1666544295        21249.0        19384.72   \n",
       "2     1  TRANSFER    181.00  C1305486145          181.0            0.00   \n",
       "3     1  CASH_OUT    181.00   C840083671          181.0            0.00   \n",
       "4     1   PAYMENT  11668.14  C2048537720        41554.0        29885.86   \n",
       "\n",
       "      nameDest  oldbalanceDest  newbalanceDest  isFraud  isFlaggedFraud  \n",
       "0  M1979787155             0.0             0.0        0               0  \n",
       "1  M2044282225             0.0             0.0        0               0  \n",
       "2   C553264065             0.0             0.0        1               0  \n",
       "3    C38997010         21182.0             0.0        1               0  \n",
       "4  M1230701703             0.0             0.0        0               0  "
      ]
     },
     "execution_count": 43,
     "metadata": {},
     "output_type": "execute_result"
    }
   ],
   "source": [
    "df.head()"
   ]
  },
  {
   "cell_type": "code",
   "execution_count": 44,
   "metadata": {
    "ExecuteTime": {
     "end_time": "2022-01-15T08:49:38.811499Z",
     "start_time": "2022-01-15T08:49:38.751494Z"
    }
   },
   "outputs": [
    {
     "data": {
      "text/html": [
       "<div>\n",
       "<style scoped>\n",
       "    .dataframe tbody tr th:only-of-type {\n",
       "        vertical-align: middle;\n",
       "    }\n",
       "\n",
       "    .dataframe tbody tr th {\n",
       "        vertical-align: top;\n",
       "    }\n",
       "\n",
       "    .dataframe thead th {\n",
       "        text-align: right;\n",
       "    }\n",
       "</style>\n",
       "<table border=\"1\" class=\"dataframe\">\n",
       "  <thead>\n",
       "    <tr style=\"text-align: right;\">\n",
       "      <th></th>\n",
       "      <th>step</th>\n",
       "      <th>amount</th>\n",
       "      <th>oldbalanceOrg</th>\n",
       "      <th>newbalanceOrig</th>\n",
       "      <th>oldbalanceDest</th>\n",
       "      <th>newbalanceDest</th>\n",
       "      <th>isFraud</th>\n",
       "      <th>isFlaggedFraud</th>\n",
       "    </tr>\n",
       "  </thead>\n",
       "  <tbody>\n",
       "    <tr>\n",
       "      <th>count</th>\n",
       "      <td>5000.000000</td>\n",
       "      <td>5.000000e+03</td>\n",
       "      <td>5.000000e+03</td>\n",
       "      <td>5.000000e+03</td>\n",
       "      <td>5.000000e+03</td>\n",
       "      <td>5.000000e+03</td>\n",
       "      <td>5000.000000</td>\n",
       "      <td>5000.0</td>\n",
       "    </tr>\n",
       "    <tr>\n",
       "      <th>mean</th>\n",
       "      <td>1.891400</td>\n",
       "      <td>1.015176e+05</td>\n",
       "      <td>1.042543e+06</td>\n",
       "      <td>1.064338e+06</td>\n",
       "      <td>9.181536e+05</td>\n",
       "      <td>1.064912e+06</td>\n",
       "      <td>0.008000</td>\n",
       "      <td>0.0</td>\n",
       "    </tr>\n",
       "    <tr>\n",
       "      <th>std</th>\n",
       "      <td>1.175705</td>\n",
       "      <td>3.009623e+05</td>\n",
       "      <td>2.301986e+06</td>\n",
       "      <td>2.343680e+06</td>\n",
       "      <td>2.541759e+06</td>\n",
       "      <td>2.921892e+06</td>\n",
       "      <td>0.089093</td>\n",
       "      <td>0.0</td>\n",
       "    </tr>\n",
       "    <tr>\n",
       "      <th>min</th>\n",
       "      <td>1.000000</td>\n",
       "      <td>6.420000e+00</td>\n",
       "      <td>0.000000e+00</td>\n",
       "      <td>0.000000e+00</td>\n",
       "      <td>0.000000e+00</td>\n",
       "      <td>0.000000e+00</td>\n",
       "      <td>0.000000</td>\n",
       "      <td>0.0</td>\n",
       "    </tr>\n",
       "    <tr>\n",
       "      <th>25%</th>\n",
       "      <td>1.000000</td>\n",
       "      <td>3.734922e+03</td>\n",
       "      <td>5.722500e+02</td>\n",
       "      <td>0.000000e+00</td>\n",
       "      <td>0.000000e+00</td>\n",
       "      <td>0.000000e+00</td>\n",
       "      <td>0.000000</td>\n",
       "      <td>0.0</td>\n",
       "    </tr>\n",
       "    <tr>\n",
       "      <th>50%</th>\n",
       "      <td>1.000000</td>\n",
       "      <td>1.095855e+04</td>\n",
       "      <td>2.655056e+04</td>\n",
       "      <td>1.814185e+04</td>\n",
       "      <td>0.000000e+00</td>\n",
       "      <td>0.000000e+00</td>\n",
       "      <td>0.000000</td>\n",
       "      <td>0.0</td>\n",
       "    </tr>\n",
       "    <tr>\n",
       "      <th>75%</th>\n",
       "      <td>3.000000</td>\n",
       "      <td>1.086046e+05</td>\n",
       "      <td>2.957183e+05</td>\n",
       "      <td>3.003207e+05</td>\n",
       "      <td>3.638475e+05</td>\n",
       "      <td>2.701108e+05</td>\n",
       "      <td>0.000000</td>\n",
       "      <td>0.0</td>\n",
       "    </tr>\n",
       "    <tr>\n",
       "      <th>max</th>\n",
       "      <td>5.000000</td>\n",
       "      <td>1.000000e+07</td>\n",
       "      <td>1.293042e+07</td>\n",
       "      <td>1.301050e+07</td>\n",
       "      <td>1.951612e+07</td>\n",
       "      <td>1.916920e+07</td>\n",
       "      <td>1.000000</td>\n",
       "      <td>0.0</td>\n",
       "    </tr>\n",
       "  </tbody>\n",
       "</table>\n",
       "</div>"
      ],
      "text/plain": [
       "              step        amount  oldbalanceOrg  newbalanceOrig  \\\n",
       "count  5000.000000  5.000000e+03   5.000000e+03    5.000000e+03   \n",
       "mean      1.891400  1.015176e+05   1.042543e+06    1.064338e+06   \n",
       "std       1.175705  3.009623e+05   2.301986e+06    2.343680e+06   \n",
       "min       1.000000  6.420000e+00   0.000000e+00    0.000000e+00   \n",
       "25%       1.000000  3.734922e+03   5.722500e+02    0.000000e+00   \n",
       "50%       1.000000  1.095855e+04   2.655056e+04    1.814185e+04   \n",
       "75%       3.000000  1.086046e+05   2.957183e+05    3.003207e+05   \n",
       "max       5.000000  1.000000e+07   1.293042e+07    1.301050e+07   \n",
       "\n",
       "       oldbalanceDest  newbalanceDest      isFraud  isFlaggedFraud  \n",
       "count    5.000000e+03    5.000000e+03  5000.000000          5000.0  \n",
       "mean     9.181536e+05    1.064912e+06     0.008000             0.0  \n",
       "std      2.541759e+06    2.921892e+06     0.089093             0.0  \n",
       "min      0.000000e+00    0.000000e+00     0.000000             0.0  \n",
       "25%      0.000000e+00    0.000000e+00     0.000000             0.0  \n",
       "50%      0.000000e+00    0.000000e+00     0.000000             0.0  \n",
       "75%      3.638475e+05    2.701108e+05     0.000000             0.0  \n",
       "max      1.951612e+07    1.916920e+07     1.000000             0.0  "
      ]
     },
     "execution_count": 44,
     "metadata": {},
     "output_type": "execute_result"
    }
   ],
   "source": [
    "df.describe()"
   ]
  },
  {
   "cell_type": "code",
   "execution_count": 45,
   "metadata": {
    "ExecuteTime": {
     "end_time": "2022-01-15T08:49:38.841542Z",
     "start_time": "2022-01-15T08:49:38.814501Z"
    }
   },
   "outputs": [
    {
     "name": "stdout",
     "output_type": "stream",
     "text": [
      "<class 'pandas.core.frame.DataFrame'>\n",
      "RangeIndex: 5000 entries, 0 to 4999\n",
      "Data columns (total 11 columns):\n",
      " #   Column          Non-Null Count  Dtype  \n",
      "---  ------          --------------  -----  \n",
      " 0   step            5000 non-null   int64  \n",
      " 1   type            5000 non-null   object \n",
      " 2   amount          5000 non-null   float64\n",
      " 3   nameOrig        5000 non-null   object \n",
      " 4   oldbalanceOrg   5000 non-null   float64\n",
      " 5   newbalanceOrig  5000 non-null   float64\n",
      " 6   nameDest        5000 non-null   object \n",
      " 7   oldbalanceDest  5000 non-null   float64\n",
      " 8   newbalanceDest  5000 non-null   float64\n",
      " 9   isFraud         5000 non-null   int64  \n",
      " 10  isFlaggedFraud  5000 non-null   int64  \n",
      "dtypes: float64(5), int64(3), object(3)\n",
      "memory usage: 429.8+ KB\n"
     ]
    }
   ],
   "source": [
    "df.info()"
   ]
  },
  {
   "cell_type": "markdown",
   "metadata": {},
   "source": [
    "### **PREPROCESSING**"
   ]
  },
  {
   "cell_type": "code",
   "execution_count": 46,
   "metadata": {
    "ExecuteTime": {
     "end_time": "2022-01-15T08:49:38.857520Z",
     "start_time": "2022-01-15T08:49:38.845498Z"
    }
   },
   "outputs": [
    {
     "data": {
      "text/plain": [
       "step              0\n",
       "type              0\n",
       "amount            0\n",
       "nameOrig          0\n",
       "oldbalanceOrg     0\n",
       "newbalanceOrig    0\n",
       "nameDest          0\n",
       "oldbalanceDest    0\n",
       "newbalanceDest    0\n",
       "isFraud           0\n",
       "isFlaggedFraud    0\n",
       "dtype: int64"
      ]
     },
     "execution_count": 46,
     "metadata": {},
     "output_type": "execute_result"
    }
   ],
   "source": [
    "df.isnull().sum()"
   ]
  },
  {
   "cell_type": "code",
   "execution_count": 47,
   "metadata": {
    "ExecuteTime": {
     "end_time": "2022-01-15T08:49:39.139058Z",
     "start_time": "2022-01-15T08:49:38.863505Z"
    }
   },
   "outputs": [
    {
     "data": {
      "text/plain": [
       "<AxesSubplot:>"
      ]
     },
     "execution_count": 47,
     "metadata": {},
     "output_type": "execute_result"
    },
    {
     "data": {
      "image/png": "[encoded data removed]",
      "text/plain": [
       "<Figure size 2160x288 with 1 Axes>"
      ]
     },
     "metadata": {},
     "output_type": "display_data"
    }
   ],
   "source": [
    "df.boxplot(figsize = (30, 4))"
   ]
  },
  {
   "cell_type": "code",
   "execution_count": 48,
   "metadata": {
    "ExecuteTime": {
     "end_time": "2022-01-15T08:49:39.609793Z",
     "start_time": "2022-01-15T08:49:39.141817Z"
    }
   },
   "outputs": [
    {
     "data": {
      "image/png": "[encoded data removed]",
      "text/plain": [
       "<Figure size 720x720 with 2 Axes>"
      ]
     },
     "metadata": {},
     "output_type": "display_data"
    }
   ],
   "source": [
    "plt.figure(figsize = (10,  10))\n",
    "sns.heatmap(df.corr(), annot = True)\n",
    "plt.show();\n",
    "\n",
    "# it seems that the fraud field doesn't show some intereting correlation with other fields."
   ]
  },
  {
   "cell_type": "code",
   "execution_count": 49,
   "metadata": {
    "ExecuteTime": {
     "end_time": "2022-01-15T08:49:39.640646Z",
     "start_time": "2022-01-15T08:49:39.614047Z"
    }
   },
   "outputs": [
    {
     "data": {
      "text/html": [
       "<div>\n",
       "<style scoped>\n",
       "    .dataframe tbody tr th:only-of-type {\n",
       "        vertical-align: middle;\n",
       "    }\n",
       "\n",
       "    .dataframe tbody tr th {\n",
       "        vertical-align: top;\n",
       "    }\n",
       "\n",
       "    .dataframe thead th {\n",
       "        text-align: right;\n",
       "    }\n",
       "</style>\n",
       "<table border=\"1\" class=\"dataframe\">\n",
       "  <thead>\n",
       "    <tr style=\"text-align: right;\">\n",
       "      <th></th>\n",
       "      <th>step</th>\n",
       "      <th>type</th>\n",
       "      <th>amount</th>\n",
       "      <th>nameOrig</th>\n",
       "      <th>newbalanceOrig</th>\n",
       "      <th>nameDest</th>\n",
       "      <th>newbalanceDest</th>\n",
       "      <th>isFraud</th>\n",
       "      <th>isFlaggedFraud</th>\n",
       "    </tr>\n",
       "  </thead>\n",
       "  <tbody>\n",
       "    <tr>\n",
       "      <th>0</th>\n",
       "      <td>1</td>\n",
       "      <td>PAYMENT</td>\n",
       "      <td>9839.64</td>\n",
       "      <td>C1231006815</td>\n",
       "      <td>160296.36</td>\n",
       "      <td>M1979787155</td>\n",
       "      <td>0.00</td>\n",
       "      <td>0</td>\n",
       "      <td>0</td>\n",
       "    </tr>\n",
       "    <tr>\n",
       "      <th>1</th>\n",
       "      <td>1</td>\n",
       "      <td>PAYMENT</td>\n",
       "      <td>1864.28</td>\n",
       "      <td>C1666544295</td>\n",
       "      <td>19384.72</td>\n",
       "      <td>M2044282225</td>\n",
       "      <td>0.00</td>\n",
       "      <td>0</td>\n",
       "      <td>0</td>\n",
       "    </tr>\n",
       "    <tr>\n",
       "      <th>2</th>\n",
       "      <td>1</td>\n",
       "      <td>TRANSFER</td>\n",
       "      <td>181.00</td>\n",
       "      <td>C1305486145</td>\n",
       "      <td>0.00</td>\n",
       "      <td>C553264065</td>\n",
       "      <td>0.00</td>\n",
       "      <td>1</td>\n",
       "      <td>0</td>\n",
       "    </tr>\n",
       "    <tr>\n",
       "      <th>3</th>\n",
       "      <td>1</td>\n",
       "      <td>CASH_OUT</td>\n",
       "      <td>181.00</td>\n",
       "      <td>C840083671</td>\n",
       "      <td>0.00</td>\n",
       "      <td>C38997010</td>\n",
       "      <td>0.00</td>\n",
       "      <td>1</td>\n",
       "      <td>0</td>\n",
       "    </tr>\n",
       "    <tr>\n",
       "      <th>4</th>\n",
       "      <td>1</td>\n",
       "      <td>PAYMENT</td>\n",
       "      <td>11668.14</td>\n",
       "      <td>C2048537720</td>\n",
       "      <td>29885.86</td>\n",
       "      <td>M1230701703</td>\n",
       "      <td>0.00</td>\n",
       "      <td>0</td>\n",
       "      <td>0</td>\n",
       "    </tr>\n",
       "    <tr>\n",
       "      <th>...</th>\n",
       "      <td>...</td>\n",
       "      <td>...</td>\n",
       "      <td>...</td>\n",
       "      <td>...</td>\n",
       "      <td>...</td>\n",
       "      <td>...</td>\n",
       "      <td>...</td>\n",
       "      <td>...</td>\n",
       "      <td>...</td>\n",
       "    </tr>\n",
       "    <tr>\n",
       "      <th>4995</th>\n",
       "      <td>5</td>\n",
       "      <td>CASH_IN</td>\n",
       "      <td>67017.13</td>\n",
       "      <td>C1000600589</td>\n",
       "      <td>4009561.32</td>\n",
       "      <td>C1163619825</td>\n",
       "      <td>51827.53</td>\n",
       "      <td>0</td>\n",
       "      <td>0</td>\n",
       "    </tr>\n",
       "    <tr>\n",
       "      <th>4996</th>\n",
       "      <td>5</td>\n",
       "      <td>CASH_IN</td>\n",
       "      <td>122744.28</td>\n",
       "      <td>C277549599</td>\n",
       "      <td>4132305.60</td>\n",
       "      <td>C1850042097</td>\n",
       "      <td>84362.06</td>\n",
       "      <td>0</td>\n",
       "      <td>0</td>\n",
       "    </tr>\n",
       "    <tr>\n",
       "      <th>4997</th>\n",
       "      <td>5</td>\n",
       "      <td>CASH_IN</td>\n",
       "      <td>414729.24</td>\n",
       "      <td>C1185631996</td>\n",
       "      <td>4547034.84</td>\n",
       "      <td>C991505714</td>\n",
       "      <td>1695079.69</td>\n",
       "      <td>0</td>\n",
       "      <td>0</td>\n",
       "    </tr>\n",
       "    <tr>\n",
       "      <th>4998</th>\n",
       "      <td>5</td>\n",
       "      <td>CASH_IN</td>\n",
       "      <td>328776.10</td>\n",
       "      <td>C804559024</td>\n",
       "      <td>4875810.94</td>\n",
       "      <td>C977993101</td>\n",
       "      <td>962737.60</td>\n",
       "      <td>0</td>\n",
       "      <td>0</td>\n",
       "    </tr>\n",
       "    <tr>\n",
       "      <th>4999</th>\n",
       "      <td>5</td>\n",
       "      <td>CASH_IN</td>\n",
       "      <td>50535.87</td>\n",
       "      <td>C189993695</td>\n",
       "      <td>4926346.82</td>\n",
       "      <td>C187649742</td>\n",
       "      <td>19647.88</td>\n",
       "      <td>0</td>\n",
       "      <td>0</td>\n",
       "    </tr>\n",
       "  </tbody>\n",
       "</table>\n",
       "<p>5000 rows × 9 columns</p>\n",
       "</div>"
      ],
      "text/plain": [
       "      step      type     amount     nameOrig  newbalanceOrig     nameDest  \\\n",
       "0        1   PAYMENT    9839.64  C1231006815       160296.36  M1979787155   \n",
       "1        1   PAYMENT    1864.28  C1666544295        19384.72  M2044282225   \n",
       "2        1  TRANSFER     181.00  C1305486145            0.00   C553264065   \n",
       "3        1  CASH_OUT     181.00   C840083671            0.00    C38997010   \n",
       "4        1   PAYMENT   11668.14  C2048537720        29885.86  M1230701703   \n",
       "...    ...       ...        ...          ...             ...          ...   \n",
       "4995     5   CASH_IN   67017.13  C1000600589      4009561.32  C1163619825   \n",
       "4996     5   CASH_IN  122744.28   C277549599      4132305.60  C1850042097   \n",
       "4997     5   CASH_IN  414729.24  C1185631996      4547034.84   C991505714   \n",
       "4998     5   CASH_IN  328776.10   C804559024      4875810.94   C977993101   \n",
       "4999     5   CASH_IN   50535.87   C189993695      4926346.82   C187649742   \n",
       "\n",
       "      newbalanceDest  isFraud  isFlaggedFraud  \n",
       "0               0.00        0               0  \n",
       "1               0.00        0               0  \n",
       "2               0.00        1               0  \n",
       "3               0.00        1               0  \n",
       "4               0.00        0               0  \n",
       "...              ...      ...             ...  \n",
       "4995        51827.53        0               0  \n",
       "4996        84362.06        0               0  \n",
       "4997      1695079.69        0               0  \n",
       "4998       962737.60        0               0  \n",
       "4999        19647.88        0               0  \n",
       "\n",
       "[5000 rows x 9 columns]"
      ]
     },
     "execution_count": 49,
     "metadata": {},
     "output_type": "execute_result"
    }
   ],
   "source": [
    "df.drop(['oldbalanceOrg', 'oldbalanceDest'], axis = 1)"
   ]
  },
  {
   "cell_type": "code",
   "execution_count": 50,
   "metadata": {
    "ExecuteTime": {
     "end_time": "2022-01-15T08:49:39.704538Z",
     "start_time": "2022-01-15T08:49:39.646647Z"
    }
   },
   "outputs": [
    {
     "data": {
      "text/html": [
       "<div>\n",
       "<style scoped>\n",
       "    .dataframe tbody tr th:only-of-type {\n",
       "        vertical-align: middle;\n",
       "    }\n",
       "\n",
       "    .dataframe tbody tr th {\n",
       "        vertical-align: top;\n",
       "    }\n",
       "\n",
       "    .dataframe thead tr th {\n",
       "        text-align: left;\n",
       "    }\n",
       "\n",
       "    .dataframe thead tr:last-of-type th {\n",
       "        text-align: right;\n",
       "    }\n",
       "</style>\n",
       "<table border=\"1\" class=\"dataframe\">\n",
       "  <thead>\n",
       "    <tr>\n",
       "      <th></th>\n",
       "      <th colspan=\"2\" halign=\"left\">sum</th>\n",
       "    </tr>\n",
       "    <tr>\n",
       "      <th></th>\n",
       "      <th>isFlaggedFraud</th>\n",
       "      <th>isFraud</th>\n",
       "    </tr>\n",
       "    <tr>\n",
       "      <th>type</th>\n",
       "      <th></th>\n",
       "      <th></th>\n",
       "    </tr>\n",
       "  </thead>\n",
       "  <tbody>\n",
       "    <tr>\n",
       "      <th>CASH_IN</th>\n",
       "      <td>0</td>\n",
       "      <td>0</td>\n",
       "    </tr>\n",
       "    <tr>\n",
       "      <th>CASH_OUT</th>\n",
       "      <td>0</td>\n",
       "      <td>21</td>\n",
       "    </tr>\n",
       "    <tr>\n",
       "      <th>DEBIT</th>\n",
       "      <td>0</td>\n",
       "      <td>0</td>\n",
       "    </tr>\n",
       "    <tr>\n",
       "      <th>PAYMENT</th>\n",
       "      <td>0</td>\n",
       "      <td>0</td>\n",
       "    </tr>\n",
       "    <tr>\n",
       "      <th>TRANSFER</th>\n",
       "      <td>0</td>\n",
       "      <td>19</td>\n",
       "    </tr>\n",
       "    <tr>\n",
       "      <th>All</th>\n",
       "      <td>0</td>\n",
       "      <td>40</td>\n",
       "    </tr>\n",
       "  </tbody>\n",
       "</table>\n",
       "</div>"
      ],
      "text/plain": [
       "                    sum        \n",
       "         isFlaggedFraud isFraud\n",
       "type                           \n",
       "CASH_IN               0       0\n",
       "CASH_OUT              0      21\n",
       "DEBIT                 0       0\n",
       "PAYMENT               0       0\n",
       "TRANSFER              0      19\n",
       "All                   0      40"
      ]
     },
     "execution_count": 50,
     "metadata": {},
     "output_type": "execute_result"
    }
   ],
   "source": [
    "# group by labels. \n",
    "# the flagged fraud is the baseline.\n",
    "\n",
    "df_pivot = pd.pivot_table(df, index = ['type'], values = ['isFraud', 'isFlaggedFraud'], aggfunc = [np.sum], margins = True)\n",
    "df_pivot"
   ]
  },
  {
   "cell_type": "code",
   "execution_count": 51,
   "metadata": {
    "ExecuteTime": {
     "end_time": "2022-01-15T08:49:39.734554Z",
     "start_time": "2022-01-15T08:49:39.705540Z"
    }
   },
   "outputs": [],
   "source": [
    "df = pd.concat([df, pd.get_dummies(df['type'], prefix = 'type_')], axis = 1)\n",
    "df.drop(['type', 'nameOrig', 'nameDest'], inplace = True, axis = 1)"
   ]
  },
  {
   "cell_type": "code",
   "execution_count": 52,
   "metadata": {
    "ExecuteTime": {
     "end_time": "2022-01-15T08:49:39.765569Z",
     "start_time": "2022-01-15T08:49:39.736542Z"
    }
   },
   "outputs": [
    {
     "data": {
      "text/html": [
       "<div>\n",
       "<style scoped>\n",
       "    .dataframe tbody tr th:only-of-type {\n",
       "        vertical-align: middle;\n",
       "    }\n",
       "\n",
       "    .dataframe tbody tr th {\n",
       "        vertical-align: top;\n",
       "    }\n",
       "\n",
       "    .dataframe thead th {\n",
       "        text-align: right;\n",
       "    }\n",
       "</style>\n",
       "<table border=\"1\" class=\"dataframe\">\n",
       "  <thead>\n",
       "    <tr style=\"text-align: right;\">\n",
       "      <th></th>\n",
       "      <th>step</th>\n",
       "      <th>amount</th>\n",
       "      <th>oldbalanceOrg</th>\n",
       "      <th>newbalanceOrig</th>\n",
       "      <th>oldbalanceDest</th>\n",
       "      <th>newbalanceDest</th>\n",
       "      <th>isFraud</th>\n",
       "      <th>isFlaggedFraud</th>\n",
       "      <th>type__CASH_IN</th>\n",
       "      <th>type__CASH_OUT</th>\n",
       "      <th>type__DEBIT</th>\n",
       "      <th>type__PAYMENT</th>\n",
       "      <th>type__TRANSFER</th>\n",
       "    </tr>\n",
       "  </thead>\n",
       "  <tbody>\n",
       "    <tr>\n",
       "      <th>0</th>\n",
       "      <td>1</td>\n",
       "      <td>9839.64</td>\n",
       "      <td>170136.0</td>\n",
       "      <td>160296.36</td>\n",
       "      <td>0.0</td>\n",
       "      <td>0.0</td>\n",
       "      <td>0</td>\n",
       "      <td>0</td>\n",
       "      <td>0</td>\n",
       "      <td>0</td>\n",
       "      <td>0</td>\n",
       "      <td>1</td>\n",
       "      <td>0</td>\n",
       "    </tr>\n",
       "    <tr>\n",
       "      <th>1</th>\n",
       "      <td>1</td>\n",
       "      <td>1864.28</td>\n",
       "      <td>21249.0</td>\n",
       "      <td>19384.72</td>\n",
       "      <td>0.0</td>\n",
       "      <td>0.0</td>\n",
       "      <td>0</td>\n",
       "      <td>0</td>\n",
       "      <td>0</td>\n",
       "      <td>0</td>\n",
       "      <td>0</td>\n",
       "      <td>1</td>\n",
       "      <td>0</td>\n",
       "    </tr>\n",
       "    <tr>\n",
       "      <th>2</th>\n",
       "      <td>1</td>\n",
       "      <td>181.00</td>\n",
       "      <td>181.0</td>\n",
       "      <td>0.00</td>\n",
       "      <td>0.0</td>\n",
       "      <td>0.0</td>\n",
       "      <td>1</td>\n",
       "      <td>0</td>\n",
       "      <td>0</td>\n",
       "      <td>0</td>\n",
       "      <td>0</td>\n",
       "      <td>0</td>\n",
       "      <td>1</td>\n",
       "    </tr>\n",
       "    <tr>\n",
       "      <th>3</th>\n",
       "      <td>1</td>\n",
       "      <td>181.00</td>\n",
       "      <td>181.0</td>\n",
       "      <td>0.00</td>\n",
       "      <td>21182.0</td>\n",
       "      <td>0.0</td>\n",
       "      <td>1</td>\n",
       "      <td>0</td>\n",
       "      <td>0</td>\n",
       "      <td>1</td>\n",
       "      <td>0</td>\n",
       "      <td>0</td>\n",
       "      <td>0</td>\n",
       "    </tr>\n",
       "    <tr>\n",
       "      <th>4</th>\n",
       "      <td>1</td>\n",
       "      <td>11668.14</td>\n",
       "      <td>41554.0</td>\n",
       "      <td>29885.86</td>\n",
       "      <td>0.0</td>\n",
       "      <td>0.0</td>\n",
       "      <td>0</td>\n",
       "      <td>0</td>\n",
       "      <td>0</td>\n",
       "      <td>0</td>\n",
       "      <td>0</td>\n",
       "      <td>1</td>\n",
       "      <td>0</td>\n",
       "    </tr>\n",
       "  </tbody>\n",
       "</table>\n",
       "</div>"
      ],
      "text/plain": [
       "   step    amount  oldbalanceOrg  newbalanceOrig  oldbalanceDest  \\\n",
       "0     1   9839.64       170136.0       160296.36             0.0   \n",
       "1     1   1864.28        21249.0        19384.72             0.0   \n",
       "2     1    181.00          181.0            0.00             0.0   \n",
       "3     1    181.00          181.0            0.00         21182.0   \n",
       "4     1  11668.14        41554.0        29885.86             0.0   \n",
       "\n",
       "   newbalanceDest  isFraud  isFlaggedFraud  type__CASH_IN  type__CASH_OUT  \\\n",
       "0             0.0        0               0              0               0   \n",
       "1             0.0        0               0              0               0   \n",
       "2             0.0        1               0              0               0   \n",
       "3             0.0        1               0              0               1   \n",
       "4             0.0        0               0              0               0   \n",
       "\n",
       "   type__DEBIT  type__PAYMENT  type__TRANSFER  \n",
       "0            0              1               0  \n",
       "1            0              1               0  \n",
       "2            0              0               1  \n",
       "3            0              0               0  \n",
       "4            0              1               0  "
      ]
     },
     "execution_count": 52,
     "metadata": {},
     "output_type": "execute_result"
    }
   ],
   "source": [
    "df.head()"
   ]
  },
  {
   "cell_type": "code",
   "execution_count": 53,
   "metadata": {
    "ExecuteTime": {
     "end_time": "2022-01-15T08:49:39.796539Z",
     "start_time": "2022-01-15T08:49:39.767541Z"
    }
   },
   "outputs": [],
   "source": [
    "# normalization.\n",
    "\n",
    "# python see a dataframe as a set of columns. \n",
    "df_scaled = (df - df.min())/(df.max() - df.min())\n",
    "df_scaled.isFlaggedFraud = df.isFlaggedFraud"
   ]
  },
  {
   "cell_type": "code",
   "execution_count": 128,
   "metadata": {
    "ExecuteTime": {
     "end_time": "2022-01-15T09:31:46.301020Z",
     "start_time": "2022-01-15T09:31:46.287012Z"
    }
   },
   "outputs": [],
   "source": [
    "# train and test split.\n",
    "\n",
    "X = df.drop(['isFraud'], axis = 1)\n",
    "y = df.isFraud\n",
    "\n",
    "X_train, X_test, y_train, y_test = train_test_split(X, y, train_size = 0.7, random_state = 1)"
   ]
  },
  {
   "cell_type": "markdown",
   "metadata": {},
   "source": [
    "### **CLASS IMBALANCE**\n",
    "\n",
    "In general, when a supervised anomaly detection is carried out, the positive class has a few examples. For this reason, there are some techniques which can help us to build a kind of balance between classes:\n",
    " -  _Oversample_: add more value to the minority class. It must be done after the splitting procedure in order to avoid a data leak between train and test set.One example is SMOTE.\n",
    " -  _Undersample_: remove data from the most popular class.\n",
    " - _Costs_ which differs on the basis of the chosen classes.\n",
    " \n",
    " SMOTE methods combines the first two aproaches, as described in https://arxiv.org/pdf/1106.1813.pdf. The main idea is to interpolate new data from the ground truth, so sampling with replacement doeasn't occur.\n",
    " "
   ]
  },
  {
   "cell_type": "markdown",
   "metadata": {},
   "source": [
    "#### **BEFORE SMOTE**"
   ]
  },
  {
   "cell_type": "code",
   "execution_count": 129,
   "metadata": {
    "ExecuteTime": {
     "end_time": "2022-01-15T09:31:47.219285Z",
     "start_time": "2022-01-15T09:31:47.210285Z"
    }
   },
   "outputs": [
    {
     "name": "stdout",
     "output_type": "stream",
     "text": [
      "Fraud: 0.9428571428571428\n",
      "Not Fraud: 99.05714285714285\n"
     ]
    }
   ],
   "source": [
    "# anomalies are rare event. So, class imbalance could be a problem, especially in an unsupervised task.\n",
    "# The problem is that models would label as not fraud transactions that would be ->  the main risk\n",
    "# is to obtain a lot of false negatives.\n",
    "\n",
    "print(f\"Fraud: {sum(y_train == 1)/len(y_train) * 100}\")\n",
    "print(f\"Not Fraud: {sum(y_train == 0)/len(y_train) * 100}\")"
   ]
  },
  {
   "cell_type": "code",
   "execution_count": 130,
   "metadata": {
    "ExecuteTime": {
     "end_time": "2022-01-15T09:31:54.954297Z",
     "start_time": "2022-01-15T09:31:47.482635Z"
    }
   },
   "outputs": [
    {
     "name": "stdout",
     "output_type": "stream",
     "text": [
      "MLP: 0.9588571428571429 \n",
      "RadomForest: 0.9951428571428572 \n",
      "DecisionTree: 0.9928571428571429 \n",
      "KNN: 0.9914285714285714 \n"
     ]
    }
   ],
   "source": [
    "# Building model: \n",
    "\n",
    "models = {\n",
    "    'MLP': MLPClassifier(),\n",
    "    'RadomForest': RandomForestClassifier(random_state = 1234),\n",
    "    'DecisionTree': DecisionTreeClassifier(random_state = 1234),\n",
    "    'KNN': KNeighborsClassifier()\n",
    "}\n",
    "\n",
    "\n",
    "for key, item in models.items():\n",
    "    result = cross_val_score(item, X_train, y_train, cv=10, scoring ='accuracy').mean() \n",
    "    print(f\"{key}: {result} \" )"
   ]
  },
  {
   "cell_type": "code",
   "execution_count": 131,
   "metadata": {
    "ExecuteTime": {
     "end_time": "2022-01-15T09:31:55.668252Z",
     "start_time": "2022-01-15T09:31:55.115821Z"
    }
   },
   "outputs": [
    {
     "name": "stdout",
     "output_type": "stream",
     "text": [
      "              precision    recall  f1-score   support\n",
      "\n",
      "   Not Fraud       1.00      1.00      1.00      1493\n",
      "       Fraud       0.86      0.86      0.86         7\n",
      "\n",
      "    accuracy                           1.00      1500\n",
      "   macro avg       0.93      0.93      0.93      1500\n",
      "weighted avg       1.00      1.00      1.00      1500\n",
      "\n"
     ]
    }
   ],
   "source": [
    "models['RadomForest'].fit(X_train, y_train)\n",
    "y_pred = models['RadomForest'].predict(X_test)\n",
    "\n",
    "# Model Evaluation \n",
    "print(classification_report(y_test, y_pred, target_names=['Not Fraud','Fraud']))"
   ]
  },
  {
   "cell_type": "code",
   "execution_count": 132,
   "metadata": {
    "ExecuteTime": {
     "end_time": "2022-01-15T09:31:55.890508Z",
     "start_time": "2022-01-15T09:31:55.876505Z"
    }
   },
   "outputs": [],
   "source": [
    "y_test = y_test.reset_index(drop = True)\n",
    "y_pred = pd.Series(y_pred)"
   ]
  },
  {
   "cell_type": "code",
   "execution_count": 133,
   "metadata": {
    "ExecuteTime": {
     "end_time": "2022-01-15T09:31:56.126031Z",
     "start_time": "2022-01-15T09:31:56.115076Z"
    }
   },
   "outputs": [
    {
     "data": {
      "text/plain": [
       "51      1\n",
       "228     1\n",
       "235     1\n",
       "430     1\n",
       "1142    1\n",
       "1151    1\n",
       "1317    1\n",
       "Name: isFraud, dtype: int64"
      ]
     },
     "execution_count": 133,
     "metadata": {},
     "output_type": "execute_result"
    }
   ],
   "source": [
    "y_test[y_test == 1]"
   ]
  },
  {
   "cell_type": "code",
   "execution_count": 134,
   "metadata": {
    "ExecuteTime": {
     "end_time": "2022-01-15T09:31:56.316358Z",
     "start_time": "2022-01-15T09:31:56.290317Z"
    }
   },
   "outputs": [
    {
     "data": {
      "text/plain": [
       "51      1\n",
       "228     1\n",
       "430     1\n",
       "620     1\n",
       "1142    1\n",
       "1151    1\n",
       "1317    1\n",
       "dtype: int64"
      ]
     },
     "execution_count": 134,
     "metadata": {},
     "output_type": "execute_result"
    }
   ],
   "source": [
    "y_pred[y_pred == 1]"
   ]
  },
  {
   "cell_type": "markdown",
   "metadata": {},
   "source": [
    "#### **AFTER SMOTE**"
   ]
  },
  {
   "cell_type": "code",
   "execution_count": 122,
   "metadata": {
    "ExecuteTime": {
     "end_time": "2022-01-15T09:28:02.991880Z",
     "start_time": "2022-01-15T09:28:02.957350Z"
    }
   },
   "outputs": [
    {
     "name": "stdout",
     "output_type": "stream",
     "text": [
      "Fraud: 50.0\n",
      "Not Fraud: 50.0\n"
     ]
    }
   ],
   "source": [
    "# only the training sample must be resampled!! It is so important \n",
    "# this point because the test set is irrelevant.\n",
    "\n",
    "sm = SMOTE(random_state = 1234)\n",
    "X_train, y_train = sm.fit_resample(X_train, y_train)\n",
    "\n",
    "print(f\"Fraud: {sum(y_train == 1)/len(y_train) * 100}\")\n",
    "print(f\"Not Fraud: {sum(y_train == 0)/len(y_train) * 100}\")"
   ]
  },
  {
   "cell_type": "code",
   "execution_count": 123,
   "metadata": {
    "ExecuteTime": {
     "end_time": "2022-01-15T09:28:25.815368Z",
     "start_time": "2022-01-15T09:28:03.311749Z"
    }
   },
   "outputs": [
    {
     "name": "stdout",
     "output_type": "stream",
     "text": [
      "MLP: 0.9601949923275571 \n",
      "RadomForest: 0.9974036370289971 \n",
      "DecisionTree: 0.9952407982667347 \n",
      "KNN: 0.9808186849973592 \n"
     ]
    }
   ],
   "source": [
    "# Building model: \n",
    "\n",
    "models = {\n",
    "    'MLP': MLPClassifier(),\n",
    "    'RadomForest': RandomForestClassifier(random_state = 1234),\n",
    "    'DecisionTree': DecisionTreeClassifier(random_state = 1234),\n",
    "#     'SVC': SVC(kernel='linear', random_state = 1234),\n",
    "    'KNN': KNeighborsClassifier()\n",
    "}\n",
    "\n",
    "\n",
    "for key, item in models.items():\n",
    "    result = cross_val_score(item, X_train, y_train, cv=10, scoring ='accuracy').mean() \n",
    "    print(f\"{key}: {result} \" )"
   ]
  },
  {
   "cell_type": "code",
   "execution_count": 136,
   "metadata": {
    "ExecuteTime": {
     "end_time": "2022-01-15T09:34:10.391356Z",
     "start_time": "2022-01-15T09:34:10.106176Z"
    }
   },
   "outputs": [
    {
     "name": "stdout",
     "output_type": "stream",
     "text": [
      "              precision    recall  f1-score   support\n",
      "\n",
      "      !Fraud       1.00      1.00      1.00      1493\n",
      "       Fraud       0.86      0.86      0.86         7\n",
      "\n",
      "    accuracy                           1.00      1500\n",
      "   macro avg       0.93      0.93      0.93      1500\n",
      "weighted avg       1.00      1.00      1.00      1500\n",
      "\n"
     ]
    }
   ],
   "source": [
    "models['RadomForest'].fit(X_train, y_train)\n",
    "y_pred = models['RadomForest'].predict(X_test)\n",
    "\n",
    "# Model Evaluation \n",
    "print(classification_report(y_test, y_pred, target_names=['!Fraud','Fraud']))\n",
    "\n",
    "# recall highlights that the majority of fraud points are detected but\n",
    "# with this method, a lot of more positives are spotted.\n",
    "# even if this method is more general and it is preferable, it performs worse \n",
    "# then the one obtained by the previous. "
   ]
  },
  {
   "cell_type": "code",
   "execution_count": 125,
   "metadata": {
    "ExecuteTime": {
     "end_time": "2022-01-15T09:28:26.640609Z",
     "start_time": "2022-01-15T09:28:26.626597Z"
    }
   },
   "outputs": [],
   "source": [
    "y_test = y_test.reset_index(drop = True)\n",
    "y_pred = pd.Series(y_pred)"
   ]
  },
  {
   "cell_type": "code",
   "execution_count": 126,
   "metadata": {
    "ExecuteTime": {
     "end_time": "2022-01-15T09:28:26.778631Z",
     "start_time": "2022-01-15T09:28:26.764634Z"
    }
   },
   "outputs": [
    {
     "data": {
      "text/plain": [
       "51      1\n",
       "228     1\n",
       "235     1\n",
       "430     1\n",
       "1142    1\n",
       "1151    1\n",
       "1317    1\n",
       "Name: isFraud, dtype: int64"
      ]
     },
     "execution_count": 126,
     "metadata": {},
     "output_type": "execute_result"
    }
   ],
   "source": [
    "y_test[y_test == 1]"
   ]
  },
  {
   "cell_type": "code",
   "execution_count": 127,
   "metadata": {
    "ExecuteTime": {
     "end_time": "2022-01-15T09:28:26.936146Z",
     "start_time": "2022-01-15T09:28:26.925634Z"
    }
   },
   "outputs": [
    {
     "data": {
      "text/plain": [
       "51      1\n",
       "129     1\n",
       "228     1\n",
       "430     1\n",
       "499     1\n",
       "620     1\n",
       "714     1\n",
       "1108    1\n",
       "1142    1\n",
       "1151    1\n",
       "1223    1\n",
       "1317    1\n",
       "dtype: int64"
      ]
     },
     "execution_count": 127,
     "metadata": {},
     "output_type": "execute_result"
    }
   ],
   "source": [
    "y_pred[y_pred == 1]"
   ]
  }
 ],
 "metadata": {
  "kernelspec": {
   "display_name": "Python 3",
   "language": "python",
   "name": "python3"
  },
  "language_info": {
   "codemirror_mode": {
    "name": "ipython",
    "version": 3
   },
   "file_extension": ".py",
   "mimetype": "text/x-python",
   "name": "python",
   "nbconvert_exporter": "python",
   "pygments_lexer": "ipython3",
   "version": "3.8.8"
  },
  "toc": {
   "base_numbering": 1,
   "nav_menu": {},
   "number_sections": true,
   "sideBar": true,
   "skip_h1_title": false,
   "title_cell": "Table of Contents",
   "title_sidebar": "Contents",
   "toc_cell": false,
   "toc_position": {},
   "toc_section_display": true,
   "toc_window_display": false
  },
  "varInspector": {
   "cols": {
    "lenName": 16,
    "lenType": 16,
    "lenVar": 40
   },
   "kernels_config": {
    "python": {
     "delete_cmd_postfix": "",
     "delete_cmd_prefix": "del ",
     "library": "var_list.py",
     "varRefreshCmd": "print(var_dic_list())"
    },
    "r": {
     "delete_cmd_postfix": ") ",
     "delete_cmd_prefix": "rm(",
     "library": "var_list.r",
     "varRefreshCmd": "cat(var_dic_list()) "
    }
   },
   "types_to_exclude": [
    "module",
    "function",
    "builtin_function_or_method",
    "instance",
    "_Feature"
   ],
   "window_display": false
  }
 },
 "nbformat": 4,
 "nbformat_minor": 2
}
